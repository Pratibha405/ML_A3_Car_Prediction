{
 "cells": [
  {
   "cell_type": "code",
   "execution_count": 1,
   "metadata": {},
   "outputs": [],
   "source": [
    "import pandas as pd\n",
    "import numpy as np\n",
    "import seaborn as sns\n",
    "import matplotlib.pyplot as plt\n",
    "import matplotlib\n",
    "import warnings\n",
    "warnings.filterwarnings('ignore')"
   ]
  },
  {
   "cell_type": "markdown",
   "metadata": {},
   "source": [
    "### from A1"
   ]
  },
  {
   "cell_type": "markdown",
   "metadata": {},
   "source": [
    "#### Data Loading"
   ]
  },
  {
   "cell_type": "code",
   "execution_count": 2,
   "metadata": {},
   "outputs": [],
   "source": [
    "# loading the data\n",
    "df= pd.read_csv('./data/Cars.csv')"
   ]
  },
  {
   "cell_type": "code",
   "execution_count": 3,
   "metadata": {},
   "outputs": [
    {
     "data": {
      "text/html": [
       "<div>\n",
       "<style scoped>\n",
       "    .dataframe tbody tr th:only-of-type {\n",
       "        vertical-align: middle;\n",
       "    }\n",
       "\n",
       "    .dataframe tbody tr th {\n",
       "        vertical-align: top;\n",
       "    }\n",
       "\n",
       "    .dataframe thead th {\n",
       "        text-align: right;\n",
       "    }\n",
       "</style>\n",
       "<table border=\"1\" class=\"dataframe\">\n",
       "  <thead>\n",
       "    <tr style=\"text-align: right;\">\n",
       "      <th></th>\n",
       "      <th>name</th>\n",
       "      <th>year</th>\n",
       "      <th>selling_price</th>\n",
       "      <th>km_driven</th>\n",
       "      <th>fuel</th>\n",
       "      <th>seller_type</th>\n",
       "      <th>transmission</th>\n",
       "      <th>owner</th>\n",
       "      <th>mileage</th>\n",
       "      <th>engine</th>\n",
       "      <th>max_power</th>\n",
       "      <th>torque</th>\n",
       "      <th>seats</th>\n",
       "    </tr>\n",
       "  </thead>\n",
       "  <tbody>\n",
       "    <tr>\n",
       "      <th>0</th>\n",
       "      <td>Maruti Swift Dzire VDI</td>\n",
       "      <td>2014</td>\n",
       "      <td>450000</td>\n",
       "      <td>145500</td>\n",
       "      <td>Diesel</td>\n",
       "      <td>Individual</td>\n",
       "      <td>Manual</td>\n",
       "      <td>First Owner</td>\n",
       "      <td>23.4 kmpl</td>\n",
       "      <td>1248 CC</td>\n",
       "      <td>74 bhp</td>\n",
       "      <td>190Nm@ 2000rpm</td>\n",
       "      <td>5.0</td>\n",
       "    </tr>\n",
       "    <tr>\n",
       "      <th>1</th>\n",
       "      <td>Skoda Rapid 1.5 TDI Ambition</td>\n",
       "      <td>2014</td>\n",
       "      <td>370000</td>\n",
       "      <td>120000</td>\n",
       "      <td>Diesel</td>\n",
       "      <td>Individual</td>\n",
       "      <td>Manual</td>\n",
       "      <td>Second Owner</td>\n",
       "      <td>21.14 kmpl</td>\n",
       "      <td>1498 CC</td>\n",
       "      <td>103.52 bhp</td>\n",
       "      <td>250Nm@ 1500-2500rpm</td>\n",
       "      <td>5.0</td>\n",
       "    </tr>\n",
       "    <tr>\n",
       "      <th>2</th>\n",
       "      <td>Honda City 2017-2020 EXi</td>\n",
       "      <td>2006</td>\n",
       "      <td>158000</td>\n",
       "      <td>140000</td>\n",
       "      <td>Petrol</td>\n",
       "      <td>Individual</td>\n",
       "      <td>Manual</td>\n",
       "      <td>Third Owner</td>\n",
       "      <td>17.7 kmpl</td>\n",
       "      <td>1497 CC</td>\n",
       "      <td>78 bhp</td>\n",
       "      <td>12.7@ 2,700(kgm@ rpm)</td>\n",
       "      <td>5.0</td>\n",
       "    </tr>\n",
       "    <tr>\n",
       "      <th>3</th>\n",
       "      <td>Hyundai i20 Sportz Diesel</td>\n",
       "      <td>2010</td>\n",
       "      <td>225000</td>\n",
       "      <td>127000</td>\n",
       "      <td>Diesel</td>\n",
       "      <td>Individual</td>\n",
       "      <td>Manual</td>\n",
       "      <td>First Owner</td>\n",
       "      <td>23.0 kmpl</td>\n",
       "      <td>1396 CC</td>\n",
       "      <td>90 bhp</td>\n",
       "      <td>22.4 kgm at 1750-2750rpm</td>\n",
       "      <td>5.0</td>\n",
       "    </tr>\n",
       "    <tr>\n",
       "      <th>4</th>\n",
       "      <td>Maruti Swift VXI BSIII</td>\n",
       "      <td>2007</td>\n",
       "      <td>130000</td>\n",
       "      <td>120000</td>\n",
       "      <td>Petrol</td>\n",
       "      <td>Individual</td>\n",
       "      <td>Manual</td>\n",
       "      <td>First Owner</td>\n",
       "      <td>16.1 kmpl</td>\n",
       "      <td>1298 CC</td>\n",
       "      <td>88.2 bhp</td>\n",
       "      <td>11.5@ 4,500(kgm@ rpm)</td>\n",
       "      <td>5.0</td>\n",
       "    </tr>\n",
       "  </tbody>\n",
       "</table>\n",
       "</div>"
      ],
      "text/plain": [
       "                           name  year  selling_price  km_driven    fuel  \\\n",
       "0        Maruti Swift Dzire VDI  2014         450000     145500  Diesel   \n",
       "1  Skoda Rapid 1.5 TDI Ambition  2014         370000     120000  Diesel   \n",
       "2      Honda City 2017-2020 EXi  2006         158000     140000  Petrol   \n",
       "3     Hyundai i20 Sportz Diesel  2010         225000     127000  Diesel   \n",
       "4        Maruti Swift VXI BSIII  2007         130000     120000  Petrol   \n",
       "\n",
       "  seller_type transmission         owner     mileage   engine   max_power  \\\n",
       "0  Individual       Manual   First Owner   23.4 kmpl  1248 CC      74 bhp   \n",
       "1  Individual       Manual  Second Owner  21.14 kmpl  1498 CC  103.52 bhp   \n",
       "2  Individual       Manual   Third Owner   17.7 kmpl  1497 CC      78 bhp   \n",
       "3  Individual       Manual   First Owner   23.0 kmpl  1396 CC      90 bhp   \n",
       "4  Individual       Manual   First Owner   16.1 kmpl  1298 CC    88.2 bhp   \n",
       "\n",
       "                     torque  seats  \n",
       "0            190Nm@ 2000rpm    5.0  \n",
       "1       250Nm@ 1500-2500rpm    5.0  \n",
       "2     12.7@ 2,700(kgm@ rpm)    5.0  \n",
       "3  22.4 kgm at 1750-2750rpm    5.0  \n",
       "4     11.5@ 4,500(kgm@ rpm)    5.0  "
      ]
     },
     "execution_count": 3,
     "metadata": {},
     "output_type": "execute_result"
    }
   ],
   "source": [
    "# checking the data in the dataset\n",
    "df.head()"
   ]
  },
  {
   "cell_type": "code",
   "execution_count": 4,
   "metadata": {},
   "outputs": [
    {
     "name": "stdout",
     "output_type": "stream",
     "text": [
      "<class 'pandas.core.frame.DataFrame'>\n",
      "RangeIndex: 8128 entries, 0 to 8127\n",
      "Data columns (total 13 columns):\n",
      " #   Column         Non-Null Count  Dtype  \n",
      "---  ------         --------------  -----  \n",
      " 0   name           8128 non-null   object \n",
      " 1   year           8128 non-null   int64  \n",
      " 2   selling_price  8128 non-null   int64  \n",
      " 3   km_driven      8128 non-null   int64  \n",
      " 4   fuel           8128 non-null   object \n",
      " 5   seller_type    8128 non-null   object \n",
      " 6   transmission   8128 non-null   object \n",
      " 7   owner          8128 non-null   object \n",
      " 8   mileage        7907 non-null   object \n",
      " 9   engine         7907 non-null   object \n",
      " 10  max_power      7913 non-null   object \n",
      " 11  torque         7906 non-null   object \n",
      " 12  seats          7907 non-null   float64\n",
      "dtypes: float64(1), int64(3), object(9)\n",
      "memory usage: 825.6+ KB\n"
     ]
    }
   ],
   "source": [
    "# summary of the dataframe\n",
    "df.info()"
   ]
  },
  {
   "cell_type": "markdown",
   "metadata": {},
   "source": [
    "#### Data Cleaning and Processing\n",
    "Preparing dataset"
   ]
  },
  {
   "cell_type": "code",
   "execution_count": 5,
   "metadata": {},
   "outputs": [
    {
     "data": {
      "text/plain": [
       "array(['First Owner', 'Second Owner', 'Third Owner',\n",
       "       'Fourth & Above Owner', 'Test Drive Car'], dtype=object)"
      ]
     },
     "execution_count": 5,
     "metadata": {},
     "output_type": "execute_result"
    }
   ],
   "source": [
    "# For the Feature of Owner\n",
    "# checking unique values for the owner column\n",
    "df['owner'].unique()"
   ]
  },
  {
   "cell_type": "code",
   "execution_count": 6,
   "metadata": {},
   "outputs": [
    {
     "data": {
      "text/plain": [
       "array([1, 2, 3, 4, 5])"
      ]
     },
     "execution_count": 6,
     "metadata": {},
     "output_type": "execute_result"
    }
   ],
   "source": [
    "owner_mapping = {'First Owner': 1, 'Second Owner': 2, 'Third Owner': 3, 'Fourth & Above Owner': 4, 'Test Drive Car': 5}\n",
    "df['owner'] = df['owner'].map(owner_mapping)# For the feature owner: mapping 'owner' column to appropriate values\n",
    "df['owner'].unique() # Checking the mapping again "
   ]
  },
  {
   "cell_type": "code",
   "execution_count": 7,
   "metadata": {},
   "outputs": [
    {
     "data": {
      "text/plain": [
       "array(['Diesel', 'Petrol', 'LPG', 'CNG'], dtype=object)"
      ]
     },
     "execution_count": 7,
     "metadata": {},
     "output_type": "execute_result"
    }
   ],
   "source": [
    "# For the feature Fuel\n",
    "# checking unique values for the fuel column\n",
    "df['fuel'].unique()"
   ]
  },
  {
   "cell_type": "code",
   "execution_count": 8,
   "metadata": {},
   "outputs": [
    {
     "data": {
      "text/plain": [
       "array(['Diesel', 'Petrol'], dtype=object)"
      ]
     },
     "execution_count": 8,
     "metadata": {},
     "output_type": "execute_result"
    }
   ],
   "source": [
    "# remove all rows with CNG and LPG because CNG and LPG use a different mileage system i.e., km/kg which is different from kmpl for Diesel and Petrol\n",
    "df.drop(df[df['fuel'].isin(['LPG', 'CNG'])].index, inplace=True)\n",
    "\n",
    "df['fuel'].unique()"
   ]
  },
  {
   "cell_type": "code",
   "execution_count": 9,
   "metadata": {},
   "outputs": [
    {
     "data": {
      "text/plain": [
       "0    23.40\n",
       "1    21.14\n",
       "2    17.70\n",
       "3    23.00\n",
       "4    16.10\n",
       "Name: mileage, dtype: float64"
      ]
     },
     "execution_count": 9,
     "metadata": {},
     "output_type": "execute_result"
    }
   ],
   "source": [
    "#For the feature Mileage\n",
    "# remove “kmpl” and convert the column to numerical type (e.g., float)\n",
    "df['mileage'] = df['mileage'].str.split().str[0].astype(float) \n",
    "\n",
    "df['mileage'].head() # checking "
   ]
  },
  {
   "cell_type": "code",
   "execution_count": 10,
   "metadata": {},
   "outputs": [
    {
     "data": {
      "text/plain": [
       "0    1248 \n",
       "1    1498 \n",
       "2    1497 \n",
       "3    1396 \n",
       "4    1298 \n",
       "Name: engine, dtype: object"
      ]
     },
     "execution_count": 10,
     "metadata": {},
     "output_type": "execute_result"
    }
   ],
   "source": [
    "# removing \"CC\" from engine column\n",
    "df['engine'] = df['engine'].str.replace('CC', '')\n",
    "df['engine'].head()"
   ]
  },
  {
   "cell_type": "code",
   "execution_count": 11,
   "metadata": {},
   "outputs": [
    {
     "data": {
      "text/plain": [
       "0    1248.0\n",
       "1    1498.0\n",
       "2    1497.0\n",
       "3    1396.0\n",
       "4    1298.0\n",
       "Name: engine, dtype: float64"
      ]
     },
     "execution_count": 11,
     "metadata": {},
     "output_type": "execute_result"
    }
   ],
   "source": [
    "# changing the data type of engine column to float\n",
    "df['engine'] = df['engine'].astype(float)\n",
    "df['engine'].head()"
   ]
  },
  {
   "cell_type": "code",
   "execution_count": 12,
   "metadata": {},
   "outputs": [
    {
     "data": {
      "text/plain": [
       "0     74.00\n",
       "1    103.52\n",
       "2     78.00\n",
       "3     90.00\n",
       "4     88.20\n",
       "Name: max_power, dtype: float64"
      ]
     },
     "execution_count": 12,
     "metadata": {},
     "output_type": "execute_result"
    }
   ],
   "source": [
    "# For the feature Max Power\n",
    "df['max_power'] = df['max_power'].str.split().str[0].astype(float)\n",
    "df['max_power'].head() # chekcing"
   ]
  },
  {
   "cell_type": "code",
   "execution_count": 13,
   "metadata": {},
   "outputs": [
    {
     "data": {
      "text/plain": [
       "0     Maruti\n",
       "1      Skoda\n",
       "2      Honda\n",
       "3    Hyundai\n",
       "4     Maruti\n",
       "Name: name, dtype: object"
      ]
     },
     "execution_count": 13,
     "metadata": {},
     "output_type": "execute_result"
    }
   ],
   "source": [
    "df['name'] = df['name'].str.split().str[0]\n",
    "\n",
    "df['name'].head()"
   ]
  },
  {
   "cell_type": "code",
   "execution_count": 14,
   "metadata": {},
   "outputs": [],
   "source": [
    "# dropping the 'torque' column\n",
    "df.drop('torque', axis = 1, inplace = True)"
   ]
  },
  {
   "cell_type": "code",
   "execution_count": 15,
   "metadata": {},
   "outputs": [],
   "source": [
    "df.drop(df[df['owner'] == 5].index, inplace = True)"
   ]
  },
  {
   "cell_type": "markdown",
   "metadata": {},
   "source": [
    "#### Explanatory Data Analysis (EDA)"
   ]
  },
  {
   "cell_type": "code",
   "execution_count": 16,
   "metadata": {},
   "outputs": [
    {
     "data": {
      "text/html": [
       "<div>\n",
       "<style scoped>\n",
       "    .dataframe tbody tr th:only-of-type {\n",
       "        vertical-align: middle;\n",
       "    }\n",
       "\n",
       "    .dataframe tbody tr th {\n",
       "        vertical-align: top;\n",
       "    }\n",
       "\n",
       "    .dataframe thead th {\n",
       "        text-align: right;\n",
       "    }\n",
       "</style>\n",
       "<table border=\"1\" class=\"dataframe\">\n",
       "  <thead>\n",
       "    <tr style=\"text-align: right;\">\n",
       "      <th></th>\n",
       "      <th>name</th>\n",
       "      <th>year</th>\n",
       "      <th>selling_price</th>\n",
       "      <th>km_driven</th>\n",
       "      <th>fuel</th>\n",
       "      <th>seller_type</th>\n",
       "      <th>transmission</th>\n",
       "      <th>owner</th>\n",
       "      <th>mileage</th>\n",
       "      <th>engine</th>\n",
       "      <th>max_power</th>\n",
       "      <th>seats</th>\n",
       "    </tr>\n",
       "  </thead>\n",
       "  <tbody>\n",
       "    <tr>\n",
       "      <th>0</th>\n",
       "      <td>Maruti</td>\n",
       "      <td>2014</td>\n",
       "      <td>450000</td>\n",
       "      <td>145500</td>\n",
       "      <td>Diesel</td>\n",
       "      <td>Individual</td>\n",
       "      <td>Manual</td>\n",
       "      <td>1</td>\n",
       "      <td>23.40</td>\n",
       "      <td>1248.0</td>\n",
       "      <td>74.00</td>\n",
       "      <td>5.0</td>\n",
       "    </tr>\n",
       "    <tr>\n",
       "      <th>1</th>\n",
       "      <td>Skoda</td>\n",
       "      <td>2014</td>\n",
       "      <td>370000</td>\n",
       "      <td>120000</td>\n",
       "      <td>Diesel</td>\n",
       "      <td>Individual</td>\n",
       "      <td>Manual</td>\n",
       "      <td>2</td>\n",
       "      <td>21.14</td>\n",
       "      <td>1498.0</td>\n",
       "      <td>103.52</td>\n",
       "      <td>5.0</td>\n",
       "    </tr>\n",
       "    <tr>\n",
       "      <th>2</th>\n",
       "      <td>Honda</td>\n",
       "      <td>2006</td>\n",
       "      <td>158000</td>\n",
       "      <td>140000</td>\n",
       "      <td>Petrol</td>\n",
       "      <td>Individual</td>\n",
       "      <td>Manual</td>\n",
       "      <td>3</td>\n",
       "      <td>17.70</td>\n",
       "      <td>1497.0</td>\n",
       "      <td>78.00</td>\n",
       "      <td>5.0</td>\n",
       "    </tr>\n",
       "    <tr>\n",
       "      <th>3</th>\n",
       "      <td>Hyundai</td>\n",
       "      <td>2010</td>\n",
       "      <td>225000</td>\n",
       "      <td>127000</td>\n",
       "      <td>Diesel</td>\n",
       "      <td>Individual</td>\n",
       "      <td>Manual</td>\n",
       "      <td>1</td>\n",
       "      <td>23.00</td>\n",
       "      <td>1396.0</td>\n",
       "      <td>90.00</td>\n",
       "      <td>5.0</td>\n",
       "    </tr>\n",
       "    <tr>\n",
       "      <th>4</th>\n",
       "      <td>Maruti</td>\n",
       "      <td>2007</td>\n",
       "      <td>130000</td>\n",
       "      <td>120000</td>\n",
       "      <td>Petrol</td>\n",
       "      <td>Individual</td>\n",
       "      <td>Manual</td>\n",
       "      <td>1</td>\n",
       "      <td>16.10</td>\n",
       "      <td>1298.0</td>\n",
       "      <td>88.20</td>\n",
       "      <td>5.0</td>\n",
       "    </tr>\n",
       "  </tbody>\n",
       "</table>\n",
       "</div>"
      ],
      "text/plain": [
       "      name  year  selling_price  km_driven    fuel seller_type transmission  \\\n",
       "0   Maruti  2014         450000     145500  Diesel  Individual       Manual   \n",
       "1    Skoda  2014         370000     120000  Diesel  Individual       Manual   \n",
       "2    Honda  2006         158000     140000  Petrol  Individual       Manual   \n",
       "3  Hyundai  2010         225000     127000  Diesel  Individual       Manual   \n",
       "4   Maruti  2007         130000     120000  Petrol  Individual       Manual   \n",
       "\n",
       "   owner  mileage  engine  max_power  seats  \n",
       "0      1    23.40  1248.0      74.00    5.0  \n",
       "1      2    21.14  1498.0     103.52    5.0  \n",
       "2      3    17.70  1497.0      78.00    5.0  \n",
       "3      1    23.00  1396.0      90.00    5.0  \n",
       "4      1    16.10  1298.0      88.20    5.0  "
      ]
     },
     "execution_count": 16,
     "metadata": {},
     "output_type": "execute_result"
    }
   ],
   "source": [
    "df.head()"
   ]
  },
  {
   "cell_type": "markdown",
   "metadata": {},
   "source": [
    "##### Distribution Plot"
   ]
  },
  {
   "cell_type": "code",
   "execution_count": 17,
   "metadata": {},
   "outputs": [
    {
     "data": {
      "image/png": "[encoded data removed]",
      "text/plain": [
       "<Figure size 500x500 with 1 Axes>"
      ]
     },
     "metadata": {},
     "output_type": "display_data"
    }
   ],
   "source": [
    "# checking the distribution of selling_price\n",
    "# selling price is found to be right skewed\n",
    "sns.displot(df['selling_price'])\n",
    "plt.show()"
   ]
  },
  {
   "cell_type": "markdown",
   "metadata": {},
   "source": [
    "##### Scatter Plot"
   ]
  },
  {
   "cell_type": "code",
   "execution_count": 18,
   "metadata": {},
   "outputs": [
    {
     "data": {
      "image/png": "[encoded data removed]",
      "text/plain": [
       "<Figure size 640x480 with 1 Axes>"
      ]
     },
     "metadata": {},
     "output_type": "display_data"
    }
   ],
   "source": [
    "# showing a positive correlation between engine and max_power\n",
    "sns.scatterplot(x='engine', y='max_power', data=df)\n",
    "plt.show()"
   ]
  },
  {
   "cell_type": "code",
   "execution_count": 19,
   "metadata": {},
   "outputs": [
    {
     "data": {
      "image/png": "[encoded data removed]",
      "text/plain": [
       "<Figure size 640x480 with 1 Axes>"
      ]
     },
     "metadata": {},
     "output_type": "display_data"
    }
   ],
   "source": [
    "# year vs selling_price\n",
    "# the selling price of the cars increases as the year increases\n",
    "sns.scatterplot(x='year', y='selling_price', data=df)\n",
    "plt.show()"
   ]
  },
  {
   "cell_type": "code",
   "execution_count": 20,
   "metadata": {},
   "outputs": [
    {
     "data": {
      "image/png": "[encoded data removed]",
      "text/plain": [
       "<Figure size 640x480 with 1 Axes>"
      ]
     },
     "metadata": {},
     "output_type": "display_data"
    }
   ],
   "source": [
    "# mileage vs selling_price\n",
    "# a lot of cars in the dataset have moderate to low mileage\n",
    "sns.scatterplot(x='mileage', y='selling_price', data=df)\n",
    "plt.show()"
   ]
  },
  {
   "cell_type": "markdown",
   "metadata": {},
   "source": [
    "##### One hot encoding method"
   ]
  },
  {
   "cell_type": "code",
   "execution_count": 21,
   "metadata": {},
   "outputs": [
    {
     "data": {
      "text/plain": [
       "array(['Individual', 'Dealer', 'Trustmark Dealer'], dtype=object)"
      ]
     },
     "execution_count": 21,
     "metadata": {},
     "output_type": "execute_result"
    }
   ],
   "source": [
    "# checking unique values for the seller type\n",
    "df['seller_type'].unique()"
   ]
  },
  {
   "cell_type": "code",
   "execution_count": 22,
   "metadata": {},
   "outputs": [
    {
     "data": {
      "text/html": [
       "<div>\n",
       "<style scoped>\n",
       "    .dataframe tbody tr th:only-of-type {\n",
       "        vertical-align: middle;\n",
       "    }\n",
       "\n",
       "    .dataframe tbody tr th {\n",
       "        vertical-align: top;\n",
       "    }\n",
       "\n",
       "    .dataframe thead th {\n",
       "        text-align: right;\n",
       "    }\n",
       "</style>\n",
       "<table border=\"1\" class=\"dataframe\">\n",
       "  <thead>\n",
       "    <tr style=\"text-align: right;\">\n",
       "      <th></th>\n",
       "      <th>name</th>\n",
       "      <th>year</th>\n",
       "      <th>selling_price</th>\n",
       "      <th>km_driven</th>\n",
       "      <th>fuel</th>\n",
       "      <th>transmission</th>\n",
       "      <th>owner</th>\n",
       "      <th>mileage</th>\n",
       "      <th>engine</th>\n",
       "      <th>max_power</th>\n",
       "      <th>seats</th>\n",
       "      <th>seller_type_Dealer</th>\n",
       "      <th>seller_type_Individual</th>\n",
       "      <th>seller_type_Trustmark Dealer</th>\n",
       "    </tr>\n",
       "  </thead>\n",
       "  <tbody>\n",
       "    <tr>\n",
       "      <th>0</th>\n",
       "      <td>Maruti</td>\n",
       "      <td>2014</td>\n",
       "      <td>450000</td>\n",
       "      <td>145500</td>\n",
       "      <td>Diesel</td>\n",
       "      <td>Manual</td>\n",
       "      <td>1</td>\n",
       "      <td>23.40</td>\n",
       "      <td>1248.0</td>\n",
       "      <td>74.00</td>\n",
       "      <td>5.0</td>\n",
       "      <td>False</td>\n",
       "      <td>True</td>\n",
       "      <td>False</td>\n",
       "    </tr>\n",
       "    <tr>\n",
       "      <th>1</th>\n",
       "      <td>Skoda</td>\n",
       "      <td>2014</td>\n",
       "      <td>370000</td>\n",
       "      <td>120000</td>\n",
       "      <td>Diesel</td>\n",
       "      <td>Manual</td>\n",
       "      <td>2</td>\n",
       "      <td>21.14</td>\n",
       "      <td>1498.0</td>\n",
       "      <td>103.52</td>\n",
       "      <td>5.0</td>\n",
       "      <td>False</td>\n",
       "      <td>True</td>\n",
       "      <td>False</td>\n",
       "    </tr>\n",
       "    <tr>\n",
       "      <th>2</th>\n",
       "      <td>Honda</td>\n",
       "      <td>2006</td>\n",
       "      <td>158000</td>\n",
       "      <td>140000</td>\n",
       "      <td>Petrol</td>\n",
       "      <td>Manual</td>\n",
       "      <td>3</td>\n",
       "      <td>17.70</td>\n",
       "      <td>1497.0</td>\n",
       "      <td>78.00</td>\n",
       "      <td>5.0</td>\n",
       "      <td>False</td>\n",
       "      <td>True</td>\n",
       "      <td>False</td>\n",
       "    </tr>\n",
       "    <tr>\n",
       "      <th>3</th>\n",
       "      <td>Hyundai</td>\n",
       "      <td>2010</td>\n",
       "      <td>225000</td>\n",
       "      <td>127000</td>\n",
       "      <td>Diesel</td>\n",
       "      <td>Manual</td>\n",
       "      <td>1</td>\n",
       "      <td>23.00</td>\n",
       "      <td>1396.0</td>\n",
       "      <td>90.00</td>\n",
       "      <td>5.0</td>\n",
       "      <td>False</td>\n",
       "      <td>True</td>\n",
       "      <td>False</td>\n",
       "    </tr>\n",
       "    <tr>\n",
       "      <th>4</th>\n",
       "      <td>Maruti</td>\n",
       "      <td>2007</td>\n",
       "      <td>130000</td>\n",
       "      <td>120000</td>\n",
       "      <td>Petrol</td>\n",
       "      <td>Manual</td>\n",
       "      <td>1</td>\n",
       "      <td>16.10</td>\n",
       "      <td>1298.0</td>\n",
       "      <td>88.20</td>\n",
       "      <td>5.0</td>\n",
       "      <td>False</td>\n",
       "      <td>True</td>\n",
       "      <td>False</td>\n",
       "    </tr>\n",
       "  </tbody>\n",
       "</table>\n",
       "</div>"
      ],
      "text/plain": [
       "      name  year  selling_price  km_driven    fuel transmission  owner  \\\n",
       "0   Maruti  2014         450000     145500  Diesel       Manual      1   \n",
       "1    Skoda  2014         370000     120000  Diesel       Manual      2   \n",
       "2    Honda  2006         158000     140000  Petrol       Manual      3   \n",
       "3  Hyundai  2010         225000     127000  Diesel       Manual      1   \n",
       "4   Maruti  2007         130000     120000  Petrol       Manual      1   \n",
       "\n",
       "   mileage  engine  max_power  seats  seller_type_Dealer  \\\n",
       "0    23.40  1248.0      74.00    5.0               False   \n",
       "1    21.14  1498.0     103.52    5.0               False   \n",
       "2    17.70  1497.0      78.00    5.0               False   \n",
       "3    23.00  1396.0      90.00    5.0               False   \n",
       "4    16.10  1298.0      88.20    5.0               False   \n",
       "\n",
       "   seller_type_Individual  seller_type_Trustmark Dealer  \n",
       "0                    True                         False  \n",
       "1                    True                         False  \n",
       "2                    True                         False  \n",
       "3                    True                         False  \n",
       "4                    True                         False  "
      ]
     },
     "execution_count": 22,
     "metadata": {},
     "output_type": "execute_result"
    }
   ],
   "source": [
    "df = pd.get_dummies(df, columns=['seller_type'])\n",
    "df.head()\n",
    "\n",
    "# seller_type has 3 values and if we do label encoding we will create a unintentional order hence choose one hot encoding"
   ]
  },
  {
   "cell_type": "markdown",
   "metadata": {},
   "source": [
    "##### Label Encoding"
   ]
  },
  {
   "cell_type": "code",
   "execution_count": 23,
   "metadata": {},
   "outputs": [],
   "source": [
    "from sklearn.preprocessing import LabelEncoder\n",
    "le = LabelEncoder()"
   ]
  },
  {
   "cell_type": "code",
   "execution_count": 24,
   "metadata": {},
   "outputs": [
    {
     "data": {
      "text/plain": [
       "array(['Diesel', 'Petrol'], dtype=object)"
      ]
     },
     "execution_count": 24,
     "metadata": {},
     "output_type": "execute_result"
    }
   ],
   "source": [
    "df['fuel'].unique()"
   ]
  },
  {
   "cell_type": "code",
   "execution_count": 25,
   "metadata": {},
   "outputs": [],
   "source": [
    "# label encoding the fuel column\n",
    "df['fuel'] = le.fit_transform(df['fuel'])"
   ]
  },
  {
   "cell_type": "code",
   "execution_count": 26,
   "metadata": {},
   "outputs": [
    {
     "name": "stdout",
     "output_type": "stream",
     "text": [
      "{'Diesel': np.int64(0), 'Petrol': np.int64(1)}\n"
     ]
    }
   ],
   "source": [
    "# Check the mapping\n",
    "print(dict(zip(le.classes_, le.transform(le.classes_))))"
   ]
  },
  {
   "cell_type": "code",
   "execution_count": 27,
   "metadata": {},
   "outputs": [
    {
     "data": {
      "text/plain": [
       "array(['Manual', 'Automatic'], dtype=object)"
      ]
     },
     "execution_count": 27,
     "metadata": {},
     "output_type": "execute_result"
    }
   ],
   "source": [
    "df['transmission'].unique()"
   ]
  },
  {
   "cell_type": "code",
   "execution_count": 28,
   "metadata": {},
   "outputs": [],
   "source": [
    "# label encoding the transmission column\n",
    "df['transmission'] = le.fit_transform(df['transmission'])"
   ]
  },
  {
   "cell_type": "code",
   "execution_count": 29,
   "metadata": {},
   "outputs": [
    {
     "name": "stdout",
     "output_type": "stream",
     "text": [
      "{'Automatic': np.int64(0), 'Manual': np.int64(1)}\n"
     ]
    }
   ],
   "source": [
    "# Check the mapping\n",
    "print(dict(zip(le.classes_, le.transform(le.classes_))))"
   ]
  },
  {
   "cell_type": "code",
   "execution_count": 30,
   "metadata": {},
   "outputs": [
    {
     "data": {
      "text/html": [
       "<div>\n",
       "<style scoped>\n",
       "    .dataframe tbody tr th:only-of-type {\n",
       "        vertical-align: middle;\n",
       "    }\n",
       "\n",
       "    .dataframe tbody tr th {\n",
       "        vertical-align: top;\n",
       "    }\n",
       "\n",
       "    .dataframe thead th {\n",
       "        text-align: right;\n",
       "    }\n",
       "</style>\n",
       "<table border=\"1\" class=\"dataframe\">\n",
       "  <thead>\n",
       "    <tr style=\"text-align: right;\">\n",
       "      <th></th>\n",
       "      <th>name</th>\n",
       "      <th>year</th>\n",
       "      <th>selling_price</th>\n",
       "      <th>km_driven</th>\n",
       "      <th>fuel</th>\n",
       "      <th>transmission</th>\n",
       "      <th>owner</th>\n",
       "      <th>mileage</th>\n",
       "      <th>engine</th>\n",
       "      <th>max_power</th>\n",
       "      <th>seats</th>\n",
       "      <th>seller_type_Dealer</th>\n",
       "      <th>seller_type_Individual</th>\n",
       "      <th>seller_type_Trustmark Dealer</th>\n",
       "    </tr>\n",
       "  </thead>\n",
       "  <tbody>\n",
       "    <tr>\n",
       "      <th>0</th>\n",
       "      <td>Maruti</td>\n",
       "      <td>2014</td>\n",
       "      <td>450000</td>\n",
       "      <td>145500</td>\n",
       "      <td>0</td>\n",
       "      <td>1</td>\n",
       "      <td>1</td>\n",
       "      <td>23.40</td>\n",
       "      <td>1248.0</td>\n",
       "      <td>74.00</td>\n",
       "      <td>5.0</td>\n",
       "      <td>False</td>\n",
       "      <td>True</td>\n",
       "      <td>False</td>\n",
       "    </tr>\n",
       "    <tr>\n",
       "      <th>1</th>\n",
       "      <td>Skoda</td>\n",
       "      <td>2014</td>\n",
       "      <td>370000</td>\n",
       "      <td>120000</td>\n",
       "      <td>0</td>\n",
       "      <td>1</td>\n",
       "      <td>2</td>\n",
       "      <td>21.14</td>\n",
       "      <td>1498.0</td>\n",
       "      <td>103.52</td>\n",
       "      <td>5.0</td>\n",
       "      <td>False</td>\n",
       "      <td>True</td>\n",
       "      <td>False</td>\n",
       "    </tr>\n",
       "    <tr>\n",
       "      <th>2</th>\n",
       "      <td>Honda</td>\n",
       "      <td>2006</td>\n",
       "      <td>158000</td>\n",
       "      <td>140000</td>\n",
       "      <td>1</td>\n",
       "      <td>1</td>\n",
       "      <td>3</td>\n",
       "      <td>17.70</td>\n",
       "      <td>1497.0</td>\n",
       "      <td>78.00</td>\n",
       "      <td>5.0</td>\n",
       "      <td>False</td>\n",
       "      <td>True</td>\n",
       "      <td>False</td>\n",
       "    </tr>\n",
       "    <tr>\n",
       "      <th>3</th>\n",
       "      <td>Hyundai</td>\n",
       "      <td>2010</td>\n",
       "      <td>225000</td>\n",
       "      <td>127000</td>\n",
       "      <td>0</td>\n",
       "      <td>1</td>\n",
       "      <td>1</td>\n",
       "      <td>23.00</td>\n",
       "      <td>1396.0</td>\n",
       "      <td>90.00</td>\n",
       "      <td>5.0</td>\n",
       "      <td>False</td>\n",
       "      <td>True</td>\n",
       "      <td>False</td>\n",
       "    </tr>\n",
       "    <tr>\n",
       "      <th>4</th>\n",
       "      <td>Maruti</td>\n",
       "      <td>2007</td>\n",
       "      <td>130000</td>\n",
       "      <td>120000</td>\n",
       "      <td>1</td>\n",
       "      <td>1</td>\n",
       "      <td>1</td>\n",
       "      <td>16.10</td>\n",
       "      <td>1298.0</td>\n",
       "      <td>88.20</td>\n",
       "      <td>5.0</td>\n",
       "      <td>False</td>\n",
       "      <td>True</td>\n",
       "      <td>False</td>\n",
       "    </tr>\n",
       "  </tbody>\n",
       "</table>\n",
       "</div>"
      ],
      "text/plain": [
       "      name  year  selling_price  km_driven  fuel  transmission  owner  \\\n",
       "0   Maruti  2014         450000     145500     0             1      1   \n",
       "1    Skoda  2014         370000     120000     0             1      2   \n",
       "2    Honda  2006         158000     140000     1             1      3   \n",
       "3  Hyundai  2010         225000     127000     0             1      1   \n",
       "4   Maruti  2007         130000     120000     1             1      1   \n",
       "\n",
       "   mileage  engine  max_power  seats  seller_type_Dealer  \\\n",
       "0    23.40  1248.0      74.00    5.0               False   \n",
       "1    21.14  1498.0     103.52    5.0               False   \n",
       "2    17.70  1497.0      78.00    5.0               False   \n",
       "3    23.00  1396.0      90.00    5.0               False   \n",
       "4    16.10  1298.0      88.20    5.0               False   \n",
       "\n",
       "   seller_type_Individual  seller_type_Trustmark Dealer  \n",
       "0                    True                         False  \n",
       "1                    True                         False  \n",
       "2                    True                         False  \n",
       "3                    True                         False  \n",
       "4                    True                         False  "
      ]
     },
     "execution_count": 30,
     "metadata": {},
     "output_type": "execute_result"
    }
   ],
   "source": [
    "df.head()"
   ]
  },
  {
   "cell_type": "code",
   "execution_count": 31,
   "metadata": {},
   "outputs": [
    {
     "data": {
      "text/plain": [
       "<Axes: >"
      ]
     },
     "execution_count": 31,
     "metadata": {},
     "output_type": "execute_result"
    },
    {
     "data": {
      "image/png": "[encoded data removed]",
      "text/plain": [
       "<Figure size 2500x1000 with 2 Axes>"
      ]
     },
     "metadata": {},
     "output_type": "display_data"
    }
   ],
   "source": [
    "df_without_name = df.drop(columns=['name'])\n",
    "plt.figure(figsize=(25, 10))\n",
    "sns.heatmap(df_without_name.corr(), annot=True, cmap='coolwarm')"
   ]
  },
  {
   "cell_type": "markdown",
   "metadata": {},
   "source": [
    "#### Feature Selection"
   ]
  },
  {
   "cell_type": "markdown",
   "metadata": {},
   "source": [
    "A3"
   ]
  },
  {
   "cell_type": "code",
   "execution_count": 32,
   "metadata": {},
   "outputs": [],
   "source": [
    "bins = [0, 260000, 450000, 680000, float('inf')]\n",
    "labels = [0, 1, 2, 3]\n",
    "df['price_category'] = pd.cut(df['selling_price'], bins=bins, labels=labels)"
   ]
  },
  {
   "cell_type": "code",
   "execution_count": 33,
   "metadata": {},
   "outputs": [],
   "source": [
    "# dropping the selling price from the dataset\n",
    "df.drop(columns=['selling_price'], inplace= True)"
   ]
  },
  {
   "cell_type": "code",
   "execution_count": 34,
   "metadata": {},
   "outputs": [
    {
     "data": {
      "text/plain": [
       "[1, 0, 2, 3]\n",
       "Categories (4, int64): [0 < 1 < 2 < 3]"
      ]
     },
     "execution_count": 34,
     "metadata": {},
     "output_type": "execute_result"
    }
   ],
   "source": [
    "df['price_category'].unique()"
   ]
  },
  {
   "cell_type": "code",
   "execution_count": 35,
   "metadata": {},
   "outputs": [
    {
     "data": {
      "text/html": [
       "<div>\n",
       "<style scoped>\n",
       "    .dataframe tbody tr th:only-of-type {\n",
       "        vertical-align: middle;\n",
       "    }\n",
       "\n",
       "    .dataframe tbody tr th {\n",
       "        vertical-align: top;\n",
       "    }\n",
       "\n",
       "    .dataframe thead th {\n",
       "        text-align: right;\n",
       "    }\n",
       "</style>\n",
       "<table border=\"1\" class=\"dataframe\">\n",
       "  <thead>\n",
       "    <tr style=\"text-align: right;\">\n",
       "      <th></th>\n",
       "      <th>name</th>\n",
       "      <th>year</th>\n",
       "      <th>km_driven</th>\n",
       "      <th>fuel</th>\n",
       "      <th>transmission</th>\n",
       "      <th>owner</th>\n",
       "      <th>mileage</th>\n",
       "      <th>engine</th>\n",
       "      <th>max_power</th>\n",
       "      <th>seats</th>\n",
       "      <th>seller_type_Dealer</th>\n",
       "      <th>seller_type_Individual</th>\n",
       "      <th>seller_type_Trustmark Dealer</th>\n",
       "      <th>price_category</th>\n",
       "    </tr>\n",
       "  </thead>\n",
       "  <tbody>\n",
       "    <tr>\n",
       "      <th>0</th>\n",
       "      <td>Maruti</td>\n",
       "      <td>2014</td>\n",
       "      <td>145500</td>\n",
       "      <td>0</td>\n",
       "      <td>1</td>\n",
       "      <td>1</td>\n",
       "      <td>23.40</td>\n",
       "      <td>1248.0</td>\n",
       "      <td>74.00</td>\n",
       "      <td>5.0</td>\n",
       "      <td>False</td>\n",
       "      <td>True</td>\n",
       "      <td>False</td>\n",
       "      <td>1</td>\n",
       "    </tr>\n",
       "    <tr>\n",
       "      <th>1</th>\n",
       "      <td>Skoda</td>\n",
       "      <td>2014</td>\n",
       "      <td>120000</td>\n",
       "      <td>0</td>\n",
       "      <td>1</td>\n",
       "      <td>2</td>\n",
       "      <td>21.14</td>\n",
       "      <td>1498.0</td>\n",
       "      <td>103.52</td>\n",
       "      <td>5.0</td>\n",
       "      <td>False</td>\n",
       "      <td>True</td>\n",
       "      <td>False</td>\n",
       "      <td>1</td>\n",
       "    </tr>\n",
       "    <tr>\n",
       "      <th>2</th>\n",
       "      <td>Honda</td>\n",
       "      <td>2006</td>\n",
       "      <td>140000</td>\n",
       "      <td>1</td>\n",
       "      <td>1</td>\n",
       "      <td>3</td>\n",
       "      <td>17.70</td>\n",
       "      <td>1497.0</td>\n",
       "      <td>78.00</td>\n",
       "      <td>5.0</td>\n",
       "      <td>False</td>\n",
       "      <td>True</td>\n",
       "      <td>False</td>\n",
       "      <td>0</td>\n",
       "    </tr>\n",
       "    <tr>\n",
       "      <th>3</th>\n",
       "      <td>Hyundai</td>\n",
       "      <td>2010</td>\n",
       "      <td>127000</td>\n",
       "      <td>0</td>\n",
       "      <td>1</td>\n",
       "      <td>1</td>\n",
       "      <td>23.00</td>\n",
       "      <td>1396.0</td>\n",
       "      <td>90.00</td>\n",
       "      <td>5.0</td>\n",
       "      <td>False</td>\n",
       "      <td>True</td>\n",
       "      <td>False</td>\n",
       "      <td>0</td>\n",
       "    </tr>\n",
       "    <tr>\n",
       "      <th>4</th>\n",
       "      <td>Maruti</td>\n",
       "      <td>2007</td>\n",
       "      <td>120000</td>\n",
       "      <td>1</td>\n",
       "      <td>1</td>\n",
       "      <td>1</td>\n",
       "      <td>16.10</td>\n",
       "      <td>1298.0</td>\n",
       "      <td>88.20</td>\n",
       "      <td>5.0</td>\n",
       "      <td>False</td>\n",
       "      <td>True</td>\n",
       "      <td>False</td>\n",
       "      <td>0</td>\n",
       "    </tr>\n",
       "    <tr>\n",
       "      <th>...</th>\n",
       "      <td>...</td>\n",
       "      <td>...</td>\n",
       "      <td>...</td>\n",
       "      <td>...</td>\n",
       "      <td>...</td>\n",
       "      <td>...</td>\n",
       "      <td>...</td>\n",
       "      <td>...</td>\n",
       "      <td>...</td>\n",
       "      <td>...</td>\n",
       "      <td>...</td>\n",
       "      <td>...</td>\n",
       "      <td>...</td>\n",
       "      <td>...</td>\n",
       "    </tr>\n",
       "    <tr>\n",
       "      <th>8123</th>\n",
       "      <td>Hyundai</td>\n",
       "      <td>2013</td>\n",
       "      <td>110000</td>\n",
       "      <td>1</td>\n",
       "      <td>1</td>\n",
       "      <td>1</td>\n",
       "      <td>18.50</td>\n",
       "      <td>1197.0</td>\n",
       "      <td>82.85</td>\n",
       "      <td>5.0</td>\n",
       "      <td>False</td>\n",
       "      <td>True</td>\n",
       "      <td>False</td>\n",
       "      <td>1</td>\n",
       "    </tr>\n",
       "    <tr>\n",
       "      <th>8124</th>\n",
       "      <td>Hyundai</td>\n",
       "      <td>2007</td>\n",
       "      <td>119000</td>\n",
       "      <td>0</td>\n",
       "      <td>1</td>\n",
       "      <td>4</td>\n",
       "      <td>16.80</td>\n",
       "      <td>1493.0</td>\n",
       "      <td>110.00</td>\n",
       "      <td>5.0</td>\n",
       "      <td>False</td>\n",
       "      <td>True</td>\n",
       "      <td>False</td>\n",
       "      <td>0</td>\n",
       "    </tr>\n",
       "    <tr>\n",
       "      <th>8125</th>\n",
       "      <td>Maruti</td>\n",
       "      <td>2009</td>\n",
       "      <td>120000</td>\n",
       "      <td>0</td>\n",
       "      <td>1</td>\n",
       "      <td>1</td>\n",
       "      <td>19.30</td>\n",
       "      <td>1248.0</td>\n",
       "      <td>73.90</td>\n",
       "      <td>5.0</td>\n",
       "      <td>False</td>\n",
       "      <td>True</td>\n",
       "      <td>False</td>\n",
       "      <td>1</td>\n",
       "    </tr>\n",
       "    <tr>\n",
       "      <th>8126</th>\n",
       "      <td>Tata</td>\n",
       "      <td>2013</td>\n",
       "      <td>25000</td>\n",
       "      <td>0</td>\n",
       "      <td>1</td>\n",
       "      <td>1</td>\n",
       "      <td>23.57</td>\n",
       "      <td>1396.0</td>\n",
       "      <td>70.00</td>\n",
       "      <td>5.0</td>\n",
       "      <td>False</td>\n",
       "      <td>True</td>\n",
       "      <td>False</td>\n",
       "      <td>1</td>\n",
       "    </tr>\n",
       "    <tr>\n",
       "      <th>8127</th>\n",
       "      <td>Tata</td>\n",
       "      <td>2013</td>\n",
       "      <td>25000</td>\n",
       "      <td>0</td>\n",
       "      <td>1</td>\n",
       "      <td>1</td>\n",
       "      <td>23.57</td>\n",
       "      <td>1396.0</td>\n",
       "      <td>70.00</td>\n",
       "      <td>5.0</td>\n",
       "      <td>False</td>\n",
       "      <td>True</td>\n",
       "      <td>False</td>\n",
       "      <td>1</td>\n",
       "    </tr>\n",
       "  </tbody>\n",
       "</table>\n",
       "<p>8028 rows × 14 columns</p>\n",
       "</div>"
      ],
      "text/plain": [
       "         name  year  km_driven  fuel  transmission  owner  mileage  engine  \\\n",
       "0      Maruti  2014     145500     0             1      1    23.40  1248.0   \n",
       "1       Skoda  2014     120000     0             1      2    21.14  1498.0   \n",
       "2       Honda  2006     140000     1             1      3    17.70  1497.0   \n",
       "3     Hyundai  2010     127000     0             1      1    23.00  1396.0   \n",
       "4      Maruti  2007     120000     1             1      1    16.10  1298.0   \n",
       "...       ...   ...        ...   ...           ...    ...      ...     ...   \n",
       "8123  Hyundai  2013     110000     1             1      1    18.50  1197.0   \n",
       "8124  Hyundai  2007     119000     0             1      4    16.80  1493.0   \n",
       "8125   Maruti  2009     120000     0             1      1    19.30  1248.0   \n",
       "8126     Tata  2013      25000     0             1      1    23.57  1396.0   \n",
       "8127     Tata  2013      25000     0             1      1    23.57  1396.0   \n",
       "\n",
       "      max_power  seats  seller_type_Dealer  seller_type_Individual  \\\n",
       "0         74.00    5.0               False                    True   \n",
       "1        103.52    5.0               False                    True   \n",
       "2         78.00    5.0               False                    True   \n",
       "3         90.00    5.0               False                    True   \n",
       "4         88.20    5.0               False                    True   \n",
       "...         ...    ...                 ...                     ...   \n",
       "8123      82.85    5.0               False                    True   \n",
       "8124     110.00    5.0               False                    True   \n",
       "8125      73.90    5.0               False                    True   \n",
       "8126      70.00    5.0               False                    True   \n",
       "8127      70.00    5.0               False                    True   \n",
       "\n",
       "      seller_type_Trustmark Dealer price_category  \n",
       "0                            False              1  \n",
       "1                            False              1  \n",
       "2                            False              0  \n",
       "3                            False              0  \n",
       "4                            False              0  \n",
       "...                            ...            ...  \n",
       "8123                         False              1  \n",
       "8124                         False              0  \n",
       "8125                         False              1  \n",
       "8126                         False              1  \n",
       "8127                         False              1  \n",
       "\n",
       "[8028 rows x 14 columns]"
      ]
     },
     "execution_count": 35,
     "metadata": {},
     "output_type": "execute_result"
    }
   ],
   "source": [
    "df"
   ]
  },
  {
   "cell_type": "code",
   "execution_count": 36,
   "metadata": {},
   "outputs": [],
   "source": [
    "#Choosing strong features\n",
    "X = df[['year','mileage','max_power']]\n",
    "assert len(X.shape) == 2 # assert used to insure that the shape of X is 2"
   ]
  },
  {
   "cell_type": "code",
   "execution_count": 37,
   "metadata": {},
   "outputs": [],
   "source": [
    "y = df['price_category']\n",
    "\n",
    "assert len(y.shape) == 1"
   ]
  },
  {
   "cell_type": "markdown",
   "metadata": {},
   "source": [
    "##### Splitting the data into traiming and testing "
   ]
  },
  {
   "cell_type": "code",
   "execution_count": 38,
   "metadata": {},
   "outputs": [],
   "source": [
    "from sklearn.model_selection import train_test_split\n",
    "\n",
    "X_train, X_test, y_train, y_test = train_test_split(X, y, test_size = 0.3, random_state = 42)"
   ]
  },
  {
   "cell_type": "markdown",
   "metadata": {},
   "source": [
    "#### Preprocessing"
   ]
  },
  {
   "cell_type": "markdown",
   "metadata": {},
   "source": [
    "##### Null values"
   ]
  },
  {
   "cell_type": "code",
   "execution_count": 39,
   "metadata": {},
   "outputs": [
    {
     "data": {
      "text/plain": [
       "year           0\n",
       "mileage      154\n",
       "max_power    149\n",
       "dtype: int64"
      ]
     },
     "execution_count": 39,
     "metadata": {},
     "output_type": "execute_result"
    }
   ],
   "source": [
    "# checking for missing values\n",
    "X_train[['year','mileage','max_power']].isna().sum()"
   ]
  },
  {
   "cell_type": "code",
   "execution_count": 40,
   "metadata": {},
   "outputs": [
    {
     "data": {
      "text/plain": [
       "<seaborn.axisgrid.FacetGrid at 0x208aab77c20>"
      ]
     },
     "execution_count": 40,
     "metadata": {},
     "output_type": "execute_result"
    },
    {
     "data": {
      "image/png": "[encoded data removed]",
      "text/plain": [
       "<Figure size 500x500 with 1 Axes>"
      ]
     },
     "metadata": {},
     "output_type": "display_data"
    }
   ],
   "source": [
    "sns.displot(data=df, x='mileage')\n",
    "\n",
    "# plot generated to check whether it is skewed or normalized to choose between mean and median for filling the null values"
   ]
  },
  {
   "cell_type": "code",
   "execution_count": 41,
   "metadata": {},
   "outputs": [
    {
     "data": {
      "text/plain": [
       "count    7814.000000\n",
       "mean       19.391962\n",
       "std         4.001972\n",
       "min         0.000000\n",
       "25%        16.780000\n",
       "50%        19.300000\n",
       "75%        22.320000\n",
       "max        42.000000\n",
       "Name: mileage, dtype: float64"
      ]
     },
     "execution_count": 41,
     "metadata": {},
     "output_type": "execute_result"
    }
   ],
   "source": [
    "df['mileage'].describe()"
   ]
  },
  {
   "cell_type": "code",
   "execution_count": 42,
   "metadata": {},
   "outputs": [],
   "source": [
    "#let's fill the training set for mileage\n",
    "X_train['mileage'].fillna(X_train['mileage'].median(), inplace=True) # the data is not normally distributed i.e, the data is skewed hence median used otherwise use mean"
   ]
  },
  {
   "cell_type": "code",
   "execution_count": 43,
   "metadata": {},
   "outputs": [
    {
     "data": {
      "text/plain": [
       "<seaborn.axisgrid.FacetGrid at 0x208aa940920>"
      ]
     },
     "execution_count": 43,
     "metadata": {},
     "output_type": "execute_result"
    },
    {
     "data": {
      "image/png": "[encoded data removed]",
      "text/plain": [
       "<Figure size 500x500 with 1 Axes>"
      ]
     },
     "metadata": {},
     "output_type": "display_data"
    }
   ],
   "source": [
    "sns.displot(data=df, x='max_power')\n",
    "\n",
    "# plot generated to check whether it is skewed or normalized to choose between mean and median for filling the null values"
   ]
  },
  {
   "cell_type": "code",
   "execution_count": 44,
   "metadata": {},
   "outputs": [
    {
     "data": {
      "text/plain": [
       "count    7820.000000\n",
       "mean       91.819726\n",
       "std        35.804513\n",
       "min         0.000000\n",
       "25%        68.850000\n",
       "50%        82.400000\n",
       "75%       102.000000\n",
       "max       400.000000\n",
       "Name: max_power, dtype: float64"
      ]
     },
     "execution_count": 44,
     "metadata": {},
     "output_type": "execute_result"
    }
   ],
   "source": [
    "df['max_power'].describe()"
   ]
  },
  {
   "cell_type": "code",
   "execution_count": 45,
   "metadata": {},
   "outputs": [],
   "source": [
    "#filling missing value\n",
    "X_train['max_power'].fillna(X_train['max_power'].mean(), inplace=True) # the data is not normally distributed i.e, the data is skewed hence median used otherwise use mean"
   ]
  },
  {
   "cell_type": "code",
   "execution_count": 46,
   "metadata": {},
   "outputs": [
    {
     "data": {
      "text/plain": [
       "year         0\n",
       "mileage      0\n",
       "max_power    0\n",
       "dtype: int64"
      ]
     },
     "execution_count": 46,
     "metadata": {},
     "output_type": "execute_result"
    }
   ],
   "source": [
    "X_train[['year','mileage','max_power']].isna().sum()"
   ]
  },
  {
   "cell_type": "code",
   "execution_count": 47,
   "metadata": {},
   "outputs": [
    {
     "data": {
      "text/plain": [
       "year          0\n",
       "mileage      60\n",
       "max_power    59\n",
       "dtype: int64"
      ]
     },
     "execution_count": 47,
     "metadata": {},
     "output_type": "execute_result"
    }
   ],
   "source": [
    "X_test[['year','mileage','max_power']].isna().sum()"
   ]
  },
  {
   "cell_type": "code",
   "execution_count": 48,
   "metadata": {},
   "outputs": [],
   "source": [
    "#filing missing values\n",
    "X_test['mileage'].fillna(X_train['mileage'].median(), inplace=True) # the data is not normally distributed i.e, the data is skewed hence median used otherwise use mean\n",
    "X_test['max_power'].fillna(X_train['max_power'].mean(), inplace=True) # the data is not normally distributed i.e, the data is skewed hence median used otherwise use mean"
   ]
  },
  {
   "cell_type": "code",
   "execution_count": 49,
   "metadata": {},
   "outputs": [
    {
     "data": {
      "text/plain": [
       "year         0\n",
       "mileage      0\n",
       "max_power    0\n",
       "dtype: int64"
      ]
     },
     "execution_count": 49,
     "metadata": {},
     "output_type": "execute_result"
    }
   ],
   "source": [
    "X_test[['year', 'mileage', 'max_power']].isna().sum()"
   ]
  },
  {
   "cell_type": "code",
   "execution_count": 50,
   "metadata": {},
   "outputs": [
    {
     "data": {
      "text/plain": [
       "np.int64(0)"
      ]
     },
     "execution_count": 50,
     "metadata": {},
     "output_type": "execute_result"
    }
   ],
   "source": [
    "y_train.isna().sum()"
   ]
  },
  {
   "cell_type": "code",
   "execution_count": 51,
   "metadata": {},
   "outputs": [
    {
     "data": {
      "text/plain": [
       "np.int64(0)"
      ]
     },
     "execution_count": 51,
     "metadata": {},
     "output_type": "execute_result"
    }
   ],
   "source": [
    "y_test.isna().sum()"
   ]
  },
  {
   "cell_type": "code",
   "execution_count": 52,
   "metadata": {},
   "outputs": [
    {
     "data": {
      "text/plain": [
       "((5619, 3), (5619,), (2409, 3), (2409,))"
      ]
     },
     "execution_count": 52,
     "metadata": {},
     "output_type": "execute_result"
    }
   ],
   "source": [
    "# checking number of rows\n",
    "X_train.shape, y_train.shape, X_test.shape, y_test.shape"
   ]
  },
  {
   "cell_type": "markdown",
   "metadata": {},
   "source": [
    "##### Checking for Outliers"
   ]
  },
  {
   "cell_type": "code",
   "execution_count": 53,
   "metadata": {},
   "outputs": [
    {
     "data": {
      "image/png": "[encoded data removed]",
      "text/plain": [
       "<Figure size 2000x3000 with 3 Axes>"
      ]
     },
     "metadata": {},
     "output_type": "display_data"
    }
   ],
   "source": [
    "col_dict = {'year':1,'mileage':2, 'max_power':3}\n",
    "\n",
    "# checking outliers\n",
    "plt.figure(figsize=(20,30))\n",
    "\n",
    "for variable,i in col_dict.items():\n",
    "                     plt.subplot(5,4,i)\n",
    "                     plt.boxplot(X_train[variable])\n",
    "                     plt.title(variable)\n",
    "\n",
    "plt.show()"
   ]
  },
  {
   "cell_type": "code",
   "execution_count": 54,
   "metadata": {},
   "outputs": [],
   "source": [
    "def outlier_count(col, data = X_train):\n",
    "    \n",
    "    # calculate your 25% quatile and 75% quatile\n",
    "    q25, q75 = np.percentile(data[col], [25, 75])\n",
    "    \n",
    "    # calculate your inter quatile\n",
    "    iqr = q75 - q25\n",
    "    \n",
    "    # min_val and max_val\n",
    "    min_val = q25 - (iqr*1.5)\n",
    "    max_val = q75 + (iqr*1.5)\n",
    "    \n",
    "    # count number of outliers, which are the data that are less than min_val or more than max_val calculated above\n",
    "    outlier_indices = np.where((data[col] < min_val) | (data[col] > max_val))[0]\n",
    "    outlier_count = len(outlier_indices)\n",
    "    \n",
    "    # calculate the percentage of the outliers\n",
    "    outlier_percent = round(outlier_count/len(data[col])*100, 2)\n",
    "    \n",
    "    if(outlier_count > 0):\n",
    "        print(\"\\n\"+15*'-' + col + 15*'-'+\"\\n\")\n",
    "        print('Number of outliers: {}'.format(outlier_count))\n",
    "        print('Percent of data that is outlier: {}%'.format(outlier_percent))"
   ]
  },
  {
   "cell_type": "code",
   "execution_count": 55,
   "metadata": {},
   "outputs": [
    {
     "name": "stdout",
     "output_type": "stream",
     "text": [
      "\n",
      "---------------year---------------\n",
      "\n",
      "Number of outliers: 145\n",
      "Percent of data that is outlier: 2.58%\n",
      "\n",
      "---------------mileage---------------\n",
      "\n",
      "Number of outliers: 14\n",
      "Percent of data that is outlier: 0.25%\n",
      "\n",
      "---------------max_power---------------\n",
      "\n",
      "Number of outliers: 409\n",
      "Percent of data that is outlier: 7.28%\n"
     ]
    }
   ],
   "source": [
    "for col in X_train.columns:\n",
    "    outlier_count(col)"
   ]
  },
  {
   "cell_type": "code",
   "execution_count": 56,
   "metadata": {},
   "outputs": [],
   "source": [
    "from sklearn.preprocessing import MinMaxScaler\n",
    "#The MinMaxScaler in sklearn.preprocessing scales numerical features to a fixed range, typically between 0 and 1.\n",
    "#tried MinMaxScaler for A2\n",
    "\n",
    "no_of_cols = ['year', 'mileage', 'max_power']\n",
    "\n",
    "\n",
    "scaler = MinMaxScaler(feature_range=(0, 1))\n",
    "\n",
    "X_train[no_of_cols] = scaler.fit_transform(X_train[no_of_cols])\n",
    "X_test[no_of_cols] = scaler.transform(X_test[no_of_cols])"
   ]
  },
  {
   "cell_type": "code",
   "execution_count": 57,
   "metadata": {},
   "outputs": [
    {
     "name": "stdout",
     "output_type": "stream",
     "text": [
      "Shape of X_train:  (5619, 3)\n",
      "Shape of y_train:  (5619,)\n",
      "Shape of X_test:  (2409, 3)\n",
      "Shape of y_test:  (2409,)\n"
     ]
    }
   ],
   "source": [
    "print(\"Shape of X_train: \", X_train.shape)\n",
    "print(\"Shape of y_train: \", y_train.shape)\n",
    "print(\"Shape of X_test: \", X_test.shape)\n",
    "print(\"Shape of y_test: \", y_test.shape)"
   ]
  },
  {
   "cell_type": "code",
   "execution_count": 58,
   "metadata": {},
   "outputs": [
    {
     "data": {
      "text/plain": [
       "['../code/model/scaler.dump']"
      ]
     },
     "execution_count": 58,
     "metadata": {},
     "output_type": "execute_result"
    }
   ],
   "source": [
    "#for web app scaled model\n",
    "import joblib\n",
    "joblib.dump(scaler, \"../code/model/scaler.dump\")"
   ]
  },
  {
   "cell_type": "markdown",
   "metadata": {},
   "source": [
    "### A3 car price prediction"
   ]
  },
  {
   "cell_type": "code",
   "execution_count": 59,
   "metadata": {},
   "outputs": [],
   "source": [
    "k = len(set(y))  # no. of class  (can also use np.unique)\n",
    "m = X_train.shape[0]  # no.of samples\n",
    "n = X_train.shape[1]  # no. of features\n",
    "Y_train_encoded = np.zeros((m, k))\n",
    "for each_class in range(k):\n",
    "    cond = y_train==each_class\n",
    "    Y_train_encoded[np.where(cond), each_class] = 1"
   ]
  },
  {
   "cell_type": "code",
   "execution_count": 60,
   "metadata": {},
   "outputs": [
    {
     "name": "stdout",
     "output_type": "stream",
     "text": [
      "2.21.3\n"
     ]
    },
    {
     "data": {
      "text/plain": [
       "<Experiment: artifact_location='mlflow-artifacts:/951198864231561543', creation_time=1743432627661, experiment_id='951198864231561543', last_update_time=1743432627661, lifecycle_stage='active', name='st125041-A3', tags={}>"
      ]
     },
     "execution_count": 60,
     "metadata": {},
     "output_type": "execute_result"
    }
   ],
   "source": [
    "#experiment tracking\n",
    "import mlflow\n",
    "import os\n",
    "print(mlflow.__version__)\n",
    "# This the dockerized method.\n",
    "# We build two docker containers, one for python/jupyter and another for mlflow.\n",
    "# The url `mlflow` is resolved into another container within the same composer.\n",
    "mlflow.set_tracking_uri(\"https://mlflow.ml.brain.cs.ait.ac.th\")\n",
    "os.environ[\"MLFLOW_TRACKING_USERNAME\"] = \"admin\"\n",
    "os.environ[\"MLFLOW_TRACKING_PASSWORD\"] = \"password\"\n",
    "# Ensure the experiment exists before setting it\n",
    "# experiment_name = \"st125041-PratibhaHamal\"\n",
    "os.environ[\"LOGNAME\"] = \"st125041-A3\"\n",
    "mlflow.set_experiment(\"st125041-A3\")"
   ]
  },
  {
   "cell_type": "code",
   "execution_count": 61,
   "metadata": {},
   "outputs": [],
   "source": [
    "import time\n",
    "import numpy as np\n",
    "import matplotlib.pyplot as plt\n",
    "\n",
    "class LogisticRegression:\n",
    "    \n",
    "    def __init__(self, regularization, k, n, method, alpha=0.001, max_iter=5000):\n",
    "        self.regularization = regularization\n",
    "        self.k = k\n",
    "        self.n = n\n",
    "        self.alpha = alpha\n",
    "        self.max_iter = max_iter\n",
    "        self.method = method\n",
    "    \n",
    "    def fit(self, X, Y):\n",
    "        self.W = np.random.rand(self.n, self.k)\n",
    "        self.losses = []\n",
    "\n",
    "        params = {\n",
    "            \"reg\": type(self).__name__,\n",
    "            \"method\": self.method,\n",
    "            \"k\": self.k,\n",
    "            \"n\": self.n,\n",
    "            \"alpha\": self.alpha,\n",
    "            \"max_iter\": self.max_iter\n",
    "        }\n",
    "        mlflow.log_params(params=params)\n",
    "    \n",
    "        if self.method == \"batch\":\n",
    "            start_time = time.time()\n",
    "            for i in range(self.max_iter):\n",
    "                loss, grad =  self.gradient(X, Y)\n",
    "                self.losses.append(loss)\n",
    "                self.W = self.W - self.alpha * grad\n",
    "                if i % 500 == 0:\n",
    "                    print(f\"Loss at iteration {i}\", loss)\n",
    "                    mlflow.log_metric(key=\"train_loss\", value=loss, step=i)\n",
    "            print(f\"time taken: {time.time() - start_time}\")\n",
    "            \n",
    "        elif self.method == \"minibatch\":\n",
    "            start_time = time.time()\n",
    "            batch_size = int(0.3 * X.shape[0])\n",
    "            for i in range(self.max_iter):\n",
    "                ix = np.random.randint(0, X.shape[0]) #<----with replacement\n",
    "                batch_X = X[ix:ix+batch_size]\n",
    "                batch_Y = Y[ix:ix+batch_size]\n",
    "                loss, grad = self.gradient(batch_X, batch_Y)\n",
    "                self.losses.append(loss)\n",
    "                self.W = self.W - self.alpha * grad\n",
    "                if i % 500 == 0:\n",
    "                    print(f\"Loss at iteration {i}\", loss)\n",
    "                    mlflow.log_metric(key=\"train_loss\", value=loss, step=i)\n",
    "            print(f\"time taken: {time.time() - start_time}\")\n",
    "            \n",
    "        elif self.method == \"sto\":\n",
    "            start_time = time.time()\n",
    "            list_of_used_ix = []\n",
    "            for i in range(self.max_iter):\n",
    "                idx = np.random.randint(X.shape[0])\n",
    "                while i in list_of_used_ix:\n",
    "                    idx = np.random.randint(X.shape[0])\n",
    "                X_train = X.iloc[idx, :].to_numpy().reshape(1, -1)\n",
    "                Y_train = Y[idx]\n",
    "                loss, grad = self.gradient(X_train, Y_train)\n",
    "                self.losses.append(loss)\n",
    "                self.W = self.W - self.alpha * grad\n",
    "                \n",
    "                list_of_used_ix.append(i)\n",
    "                if len(list_of_used_ix) == X.shape[0]:\n",
    "                    list_of_used_ix = []\n",
    "                if i % 500 == 0:\n",
    "                    print(f\"Loss at iteration {i}\", loss)\n",
    "                    mlflow.log_metric(key=\"train_loss\", value=loss, step=i)\n",
    "            print(f\"time taken: {time.time() - start_time}\")\n",
    "        \n",
    "        else:\n",
    "            raise ValueError('Method must be one of the followings: \"batch\", \"minibatch\" or \"sto\".')\n",
    "        \n",
    "    def gradient(self, X, Y):\n",
    "        m = X.shape[0]\n",
    "        h = self.h_theta(X, self.W)\n",
    "        loss = - np.sum(Y*np.log(h)) / m\n",
    "        error = h - Y\n",
    "\n",
    "        if self.regularization:\n",
    "            grad = self.softmax_grad(X, error) + self.regularization.derivation(self.W)\n",
    "        else:\n",
    "            grad = self.softmax_grad(X, error)\n",
    "\n",
    "        return loss, grad\n",
    "\n",
    "    def softmax(self, theta_t_x):\n",
    "        theta_t_x = np.array(theta_t_x) \n",
    "        return np.exp(theta_t_x) / np.sum(np.exp(theta_t_x), axis=1, keepdims=True)\n",
    "\n",
    "\n",
    "    def softmax_grad(self, X, error):\n",
    "        return  X.T @ error\n",
    "\n",
    "    def h_theta(self, X, W):\n",
    "        '''\n",
    "        Input:\n",
    "            X shape: (m, n)\n",
    "            w shape: (n, k)\n",
    "        Returns:\n",
    "            yhat shape: (m, k)\n",
    "        '''\n",
    "        return self.softmax(X @ W)\n",
    "    \n",
    "    def predict(self, X_test):\n",
    "        return np.argmax(self.h_theta(X_test, self.W), axis=1)\n",
    "    \n",
    "    def plot(self):\n",
    "        plt.plot(np.arange(len(self.losses)) , self.losses, label = \"Train Losses\")\n",
    "        plt.title(\"Losses\")\n",
    "        plt.xlabel(\"epoch\")\n",
    "        plt.ylabel(\"losses\")\n",
    "        plt.legend()\n",
    "\n",
    "    def accuracy(self, y_test, y_pred):\n",
    "        return np.count_nonzero(y_test==y_pred) / len(y_test)\n",
    "\n",
    "    def precision(self, y_test, y_pred, c=0):\n",
    "        tp = np.nansum(np.logical_and(y_test == c, y_pred == c))\n",
    "        fp = np.nansum(np.logical_and(y_test != c, y_pred == c))\n",
    "\n",
    "        if tp + fp == 0:\n",
    "            return 0\n",
    "        else:\n",
    "            return tp / (tp + fp)\n",
    "    \n",
    "    def recall(self, y_test, y_pred, c=0):\n",
    "        tp = np.nansum(np.logical_and(y_test == c, y_pred == c))\n",
    "        fn = np.nansum(np.logical_and(y_test == c, y_pred != c))\n",
    "        \n",
    "        if tp + fn == 0:\n",
    "            return 0\n",
    "        else:\n",
    "            return tp / (tp + fn)\n",
    "    \n",
    "    def f1_score(self, y_test, y_pred, c=0):\n",
    "        precision = self.precision(y_test, y_pred, c)\n",
    "        recall = self.recall(y_test, y_pred, c)\n",
    "\n",
    "        if precision + recall == 0:\n",
    "            return 0\n",
    "        else:\n",
    "            return 2 * precision * recall / (precision + recall)\n",
    "    \n",
    "    def macro_precision(self, y_test, y_pred):\n",
    "        precisions = [self.precision(y_test, y_pred, c) for c in range(self.k)]\n",
    "        return np.sum(precisions) / self.k\n",
    "    \n",
    "    def macro_recall(self, y_test, y_pred):\n",
    "        recalls = [self.recall(y_test, y_pred, c) for c in range(self.k)]\n",
    "        return np.sum(recalls) / self.k\n",
    "    \n",
    "    def macro_f1(self, y_test, y_pred):\n",
    "        f1s = [self.f1_score(y_test, y_pred, c) for c in range(self.k)]\n",
    "        return np.sum(f1s) / self.k\n",
    "    \n",
    "    def weighted_precision(self, y_test, y_pred):\n",
    "        precisions = [np.count_nonzero(y_test == c)  / len(y_test) * self.precision(y_test, y_pred, c) for c in range(self.k)]\n",
    "        return np.sum(precisions)\n",
    "    \n",
    "    def weighted_recall(self, y_test, y_pred):\n",
    "        recalls = [np.count_nonzero(y_test == c)  / len(y_test) * self.recall(y_test, y_pred, c) for c in range(self.k)]\n",
    "        return np.sum(recalls)\n",
    "    \n",
    "    def weighted_f1(self, y_test, y_pred):\n",
    "        f1s = [np.count_nonzero(y_test == c)  / len(y_test) * self.f1_score(y_test, y_pred, c) for c in range(self.k)]\n",
    "        return np.sum(f1s)\n",
    "    \n",
    "    def classification_report(self, y_test, y_pred):\n",
    "        cols = [\"precision\", \"recall\", \"f1-score\"]\n",
    "        idx = list(range(self.k))+[\"accuracy\", \"macro\", \"weighted\"]\n",
    "\n",
    "        report = [[self.precision(y_test, y_pred, c),\n",
    "                self.recall(y_test, y_pred, c),\n",
    "                self.f1_score(y_test, y_pred, c)] for c in range(self.k)]\n",
    "\n",
    "        report.append([\"\", \"\", self.accuracy(y_test, y_pred)])\n",
    "\n",
    "        report.append([self.macro_precision(y_test, y_pred),\n",
    "                    self.macro_recall(y_test, y_pred),\n",
    "                    self.macro_f1(y_test, y_pred)])\n",
    "\n",
    "        report.append([self.weighted_precision(y_test, y_pred),\n",
    "                    self.weighted_recall(y_test, y_pred),\n",
    "                    self.weighted_f1(y_test, y_pred)])\n",
    "        \n",
    "        return pd.DataFrame(report, index=idx, columns=cols)"
   ]
  },
  {
   "cell_type": "code",
   "execution_count": 62,
   "metadata": {},
   "outputs": [],
   "source": [
    "class RidgePenalty:\n",
    "    \n",
    "    def __init__(self, l):\n",
    "        self.l = l\n",
    "        \n",
    "    def __call__(self, theta): #__call__ allows us to call class as method\n",
    "        return self.l * np.sum(np.square(theta))\n",
    "        \n",
    "    def derivation(self, theta):\n",
    "        return self.l * 2 * theta\n",
    "    \n",
    "class Ridge(LogisticRegression):\n",
    "    \n",
    "    def __init__(self, l, k, n, method, alpha=0.001, max_iter=5000):\n",
    "        self.regularization = RidgePenalty(l)\n",
    "        super().__init__(self.regularization, k, n, method, alpha, max_iter)\n",
    "\n",
    "class Normal(LogisticRegression):\n",
    "    \n",
    "    def __init__(self, k, n, method, alpha=0.001, max_iter=5000):\n",
    "        self.regularization = None\n",
    "        super().__init__(self.regularization, k, n, method, alpha, max_iter)"
   ]
  },
  {
   "cell_type": "code",
   "execution_count": 63,
   "metadata": {},
   "outputs": [],
   "source": [
    "from sklearn.metrics import classification_report"
   ]
  },
  {
   "cell_type": "code",
   "execution_count": 64,
   "metadata": {},
   "outputs": [],
   "source": [
    "import sys\n",
    "\n",
    "def str_to_class(classname):\n",
    "    return getattr(sys.modules[__name__], classname)"
   ]
  },
  {
   "cell_type": "markdown",
   "metadata": {},
   "source": [
    "Comparing classification report and my implementations"
   ]
  },
  {
   "cell_type": "code",
   "execution_count": 65,
   "metadata": {},
   "outputs": [
    {
     "name": "stdout",
     "output_type": "stream",
     "text": [
      "Loss at iteration 0 1.4042142176902341\n",
      "Loss at iteration 500 1.2368432146435746\n",
      "Loss at iteration 1000 1.2234450170364497\n",
      "Loss at iteration 1500 1.2212631287561502\n",
      "Loss at iteration 2000 1.2631968376770029\n",
      "Loss at iteration 2500 1.2441771762874985\n",
      "Loss at iteration 3000 1.2244423959291901\n",
      "Loss at iteration 3500 1.2693025595884413\n",
      "Loss at iteration 4000 1.2281115428514082\n",
      "Loss at iteration 4500 1.2156198142116832\n",
      "Loss at iteration 5000 1.2613986288498493\n",
      "Loss at iteration 5500 1.254841455063466\n",
      "Loss at iteration 6000 1.2435234209177521\n",
      "Loss at iteration 6500 1.2799150317369818\n",
      "Loss at iteration 7000 1.229444542492834\n",
      "Loss at iteration 7500 1.225971405183291\n",
      "Loss at iteration 8000 1.2487936377102336\n",
      "Loss at iteration 8500 1.2561289387345043\n",
      "Loss at iteration 9000 1.2241807668715858\n",
      "Loss at iteration 9500 1.2282222013390867\n",
      "time taken: 23.454039812088013\n",
      "=========Sklearn's Classification report=======\n",
      "              precision    recall  f1-score   support\n",
      "\n",
      "           0       0.45      0.52      0.48       633\n",
      "           1       0.37      0.24      0.30       627\n",
      "           2       0.41      0.46      0.43       561\n",
      "           3       0.57      0.62      0.59       588\n",
      "\n",
      "    accuracy                           0.46      2409\n",
      "   macro avg       0.45      0.46      0.45      2409\n",
      "weighted avg       0.45      0.46      0.45      2409\n",
      "\n"
     ]
    }
   ],
   "source": [
    "test_model = Ridge(0.1, k, X_train.shape[1], \"minibatch\", max_iter=10000)\n",
    "test_model.fit(X_train, Y_train_encoded)\n",
    "yhat = test_model.predict(X_test)\n",
    "print(\"=========Sklearn's Classification report=======\")\n",
    "print(classification_report(y_test, yhat))"
   ]
  },
  {
   "cell_type": "code",
   "execution_count": 66,
   "metadata": {},
   "outputs": [
    {
     "name": "stdout",
     "output_type": "stream",
     "text": [
      "=========Manually implemented Classification report=======\n",
      "         precision    recall  f1-score\n",
      "0         0.453537  0.516588  0.483013\n",
      "1         0.373171  0.244019  0.295082\n",
      "2          0.40981  0.461676  0.434199\n",
      "3         0.565015  0.620748  0.591572\n",
      "accuracy                      0.458281\n",
      "macro     0.450383  0.460758  0.450967\n",
      "weighted  0.449647  0.458281  0.449230\n"
     ]
    }
   ],
   "source": [
    "print(\"=========Manually implemented Classification report=======\")\n",
    "print(test_model.classification_report(y_test, yhat))"
   ]
  },
  {
   "cell_type": "markdown",
   "metadata": {},
   "source": [
    "Experiment for using Ridge Penalty or for not using Ridge Penalty"
   ]
  },
  {
   "cell_type": "code",
   "execution_count": 67,
   "metadata": {},
   "outputs": [
    {
     "name": "stdout",
     "output_type": "stream",
     "text": [
      "==============================\n",
      "Normal batch\n",
      "alpha: 0.01\n",
      "==============================\n",
      "Loss at iteration 0 1.422430429539391\n",
      "Loss at iteration 500 23.344596508758414\n",
      "Loss at iteration 1000 21.965441561174792\n",
      "Loss at iteration 1500 15.232998206707359\n",
      "Loss at iteration 2000 17.729777478338402\n",
      "Loss at iteration 2500 21.06469097892608\n",
      "Loss at iteration 3000 9.385249097337583\n",
      "Loss at iteration 3500 14.608809039099008\n",
      "Loss at iteration 4000 16.378592880362888\n",
      "Loss at iteration 4500 10.55194027378898\n",
      "Loss at iteration 5000 9.524931512106173\n",
      "Loss at iteration 5500 20.394257981300886\n",
      "Loss at iteration 6000 11.750940199642942\n",
      "Loss at iteration 6500 10.42014659754058\n",
      "Loss at iteration 7000 18.660814287045\n",
      "Loss at iteration 7500 14.851830242307784\n",
      "Loss at iteration 8000 10.66378693153095\n",
      "Loss at iteration 8500 17.259514006545107\n",
      "Loss at iteration 9000 19.807158453867764\n",
      "Loss at iteration 9500 14.632323222196835\n",
      "time taken: 25.32413911819458\n",
      "Final Training Loss: 20.940723184434876\n",
      "🏃 View run reg-Normal-method-batch-alpha-0.01 at: https://mlflow.ml.brain.cs.ait.ac.th/#/experiments/951198864231561543/runs/ac863f8f725c4fa8b2436f98993c6151\n",
      "🧪 View experiment at: https://mlflow.ml.brain.cs.ait.ac.th/#/experiments/951198864231561543\n",
      "==============================\n",
      "Normal batch\n",
      "alpha: 0.001\n",
      "==============================\n",
      "Loss at iteration 0 1.397474707399746\n",
      "Loss at iteration 500 1.2371676324285865\n",
      "Loss at iteration 1000 1.2371329230434565\n",
      "Loss at iteration 1500 1.237132778007195\n",
      "Loss at iteration 2000 1.2371327773901193\n",
      "Loss at iteration 2500 1.2371327773874894\n",
      "Loss at iteration 3000 1.2371327773874785\n",
      "Loss at iteration 3500 1.237132777387478\n",
      "Loss at iteration 4000 1.2371327773874785\n",
      "Loss at iteration 4500 1.2371327773874785\n",
      "Loss at iteration 5000 1.2371327773874785\n",
      "Loss at iteration 5500 1.2371327773874785\n",
      "Loss at iteration 6000 1.2371327773874785\n",
      "Loss at iteration 6500 1.2371327773874785\n",
      "Loss at iteration 7000 1.2371327773874785\n",
      "Loss at iteration 7500 1.2371327773874785\n",
      "Loss at iteration 8000 1.2371327773874785\n",
      "Loss at iteration 8500 1.2371327773874785\n",
      "Loss at iteration 9000 1.2371327773874785\n",
      "Loss at iteration 9500 1.2371327773874785\n",
      "time taken: 29.228771686553955\n",
      "Final Training Loss: 1.2371327773874785\n",
      "🏃 View run reg-Normal-method-batch-alpha-0.001 at: https://mlflow.ml.brain.cs.ait.ac.th/#/experiments/951198864231561543/runs/45f212b07d574993b72d2f96967d8dd6\n",
      "🧪 View experiment at: https://mlflow.ml.brain.cs.ait.ac.th/#/experiments/951198864231561543\n",
      "==============================\n",
      "Normal batch\n",
      "alpha: 0.0001\n",
      "==============================\n",
      "Loss at iteration 0 1.5005465930218813\n",
      "Loss at iteration 500 1.2546027602847347\n",
      "Loss at iteration 1000 1.2425000488265394\n",
      "Loss at iteration 1500 1.2393840796588433\n",
      "Loss at iteration 2000 1.2382306592209549\n",
      "Loss at iteration 2500 1.2377126170820165\n",
      "Loss at iteration 3000 1.2374523175920735\n",
      "Loss at iteration 3500 1.2373128854538464\n",
      "Loss at iteration 4000 1.2372355170430844\n",
      "Loss at iteration 4500 1.2371917621897903\n",
      "Loss at iteration 5000 1.2371667626586247\n",
      "Loss at iteration 5500 1.2371523991049715\n",
      "Loss at iteration 6000 1.2371441204831242\n",
      "Loss at iteration 6500 1.2371393401067265\n",
      "Loss at iteration 7000 1.2371365765177318\n",
      "Loss at iteration 7500 1.2371349776067682\n",
      "Loss at iteration 8000 1.2371340520225775\n",
      "Loss at iteration 8500 1.2371335159954795\n",
      "Loss at iteration 9000 1.2371332054711355\n",
      "Loss at iteration 9500 1.2371330255369617\n",
      "time taken: 25.957904815673828\n",
      "Final Training Loss: 1.237132921409499\n",
      "🏃 View run reg-Normal-method-batch-alpha-0.0001 at: https://mlflow.ml.brain.cs.ait.ac.th/#/experiments/951198864231561543/runs/c817b02a498d4314b324f58dfeaeee45\n",
      "🧪 View experiment at: https://mlflow.ml.brain.cs.ait.ac.th/#/experiments/951198864231561543\n",
      "==============================\n",
      "Normal minibatch\n",
      "alpha: 0.01\n",
      "==============================\n",
      "Loss at iteration 0 1.4515180905224085\n",
      "Loss at iteration 500 3.646850825364792\n",
      "Loss at iteration 1000 1.8575403039008707\n",
      "Loss at iteration 1500 4.154794114365563\n",
      "Loss at iteration 2000 1.9632390623285734\n",
      "Loss at iteration 2500 4.31632377713814\n",
      "Loss at iteration 3000 2.2573740800614615\n",
      "Loss at iteration 3500 2.6079143313783826\n",
      "Loss at iteration 4000 4.7314246935273125\n",
      "Loss at iteration 4500 2.366297192434872\n",
      "Loss at iteration 5000 5.417989650023053\n",
      "Loss at iteration 5500 3.3725162684434435\n",
      "Loss at iteration 6000 2.5025068455123574\n",
      "Loss at iteration 6500 3.608058159503936\n",
      "Loss at iteration 7000 5.602279266562355\n",
      "Loss at iteration 7500 2.8513525889698164\n",
      "Loss at iteration 8000 5.080708076420727\n",
      "Loss at iteration 8500 5.369230321783348\n",
      "Loss at iteration 9000 3.2107370289158936\n",
      "Loss at iteration 9500 4.974263441181388\n",
      "time taken: 17.68174719810486\n",
      "Final Training Loss: 2.234274724199378\n",
      "🏃 View run reg-Normal-method-minibatch-alpha-0.01 at: https://mlflow.ml.brain.cs.ait.ac.th/#/experiments/951198864231561543/runs/ac1725bd1b9e491087bf06f2720051a4\n",
      "🧪 View experiment at: https://mlflow.ml.brain.cs.ait.ac.th/#/experiments/951198864231561543\n",
      "==============================\n",
      "Normal minibatch\n",
      "alpha: 0.001\n",
      "==============================\n",
      "Loss at iteration 0 1.3769808358245774\n",
      "Loss at iteration 500 1.2204041414127742\n",
      "Loss at iteration 1000 1.2232621413609275\n",
      "Loss at iteration 1500 1.2329630770029147\n",
      "Loss at iteration 2000 1.214283997711957\n",
      "Loss at iteration 2500 1.2184933831097418\n",
      "Loss at iteration 3000 1.2150687778471512\n",
      "Loss at iteration 3500 1.232021965882962\n",
      "Loss at iteration 4000 1.2212531098857318\n",
      "Loss at iteration 4500 1.2340908832211201\n",
      "Loss at iteration 5000 1.2235289776485772\n",
      "Loss at iteration 5500 1.218751893645414\n",
      "Loss at iteration 6000 1.2219522322749388\n",
      "Loss at iteration 6500 1.230855169509876\n",
      "Loss at iteration 7000 1.2707744774638685\n",
      "Loss at iteration 7500 1.2836209534118073\n",
      "Loss at iteration 8000 1.2195632417227233\n",
      "Loss at iteration 8500 1.2308588643129705\n",
      "Loss at iteration 9000 1.2332623886162895\n",
      "Loss at iteration 9500 1.215562222495748\n",
      "time taken: 17.53933548927307\n",
      "Final Training Loss: 1.2647289541379976\n",
      "🏃 View run reg-Normal-method-minibatch-alpha-0.001 at: https://mlflow.ml.brain.cs.ait.ac.th/#/experiments/951198864231561543/runs/94fe6fe145fa498390f8d565ed103e04\n",
      "🧪 View experiment at: https://mlflow.ml.brain.cs.ait.ac.th/#/experiments/951198864231561543\n",
      "==============================\n",
      "Normal minibatch\n",
      "alpha: 0.0001\n",
      "==============================\n",
      "Loss at iteration 0 1.4227542537275557\n",
      "Loss at iteration 500 1.315906248621726\n",
      "Loss at iteration 1000 1.2814691790188513\n",
      "Loss at iteration 1500 1.2567024961132585\n",
      "Loss at iteration 2000 1.2479486976860545\n",
      "Loss at iteration 2500 1.2627126243649114\n",
      "Loss at iteration 3000 1.2427857000311524\n",
      "Loss at iteration 3500 1.2491659412079044\n",
      "Loss at iteration 4000 1.2535736455254232\n",
      "Loss at iteration 4500 1.26068234716308\n",
      "Loss at iteration 5000 1.2384221443602899\n",
      "Loss at iteration 5500 1.2332855708626624\n",
      "Loss at iteration 6000 1.232115469976926\n",
      "Loss at iteration 6500 1.2353877908980324\n",
      "Loss at iteration 7000 1.2060921319834736\n",
      "Loss at iteration 7500 1.2381297540425245\n",
      "Loss at iteration 8000 1.2537254285456878\n",
      "Loss at iteration 8500 1.2349062202435912\n",
      "Loss at iteration 9000 1.2278232484486054\n",
      "Loss at iteration 9500 1.2277291953316922\n",
      "time taken: 32.293593883514404\n",
      "Final Training Loss: 1.2372293162480674\n",
      "🏃 View run reg-Normal-method-minibatch-alpha-0.0001 at: https://mlflow.ml.brain.cs.ait.ac.th/#/experiments/951198864231561543/runs/0dc40ed9f6134ba0b48ebbc949fa4b1c\n",
      "🧪 View experiment at: https://mlflow.ml.brain.cs.ait.ac.th/#/experiments/951198864231561543\n",
      "==============================\n",
      "Normal sto\n",
      "alpha: 0.01\n",
      "==============================\n",
      "Loss at iteration 0 1.9287450052658768\n",
      "Loss at iteration 500 1.002184749452467\n",
      "Loss at iteration 1000 1.369646912435892\n",
      "Loss at iteration 1500 0.9822631251778909\n",
      "Loss at iteration 2000 1.4581370383939956\n",
      "Loss at iteration 2500 0.8139184471876055\n",
      "Loss at iteration 3000 1.290891291292707\n",
      "Loss at iteration 3500 1.0522424438756006\n",
      "Loss at iteration 4000 1.4617390412752362\n",
      "Loss at iteration 4500 1.4924066055693284\n",
      "Loss at iteration 5000 1.2639843278592349\n",
      "Loss at iteration 5500 1.2027393607038959\n",
      "Loss at iteration 6000 1.3843067626779377\n",
      "Loss at iteration 6500 1.4487409382121266\n",
      "Loss at iteration 7000 1.3217582927878115\n",
      "Loss at iteration 7500 1.3932776399621454\n",
      "Loss at iteration 8000 0.6930011185455902\n",
      "Loss at iteration 8500 1.4661652186048961\n",
      "Loss at iteration 9000 1.3347478668548953\n",
      "Loss at iteration 9500 0.9765115810541696\n",
      "time taken: 6.48244047164917\n",
      "Final Training Loss: 1.223546551137456\n",
      "🏃 View run reg-Normal-method-sto-alpha-0.01 at: https://mlflow.ml.brain.cs.ait.ac.th/#/experiments/951198864231561543/runs/be71fcd8b16a48838a2fb9fc0628a37c\n",
      "🧪 View experiment at: https://mlflow.ml.brain.cs.ait.ac.th/#/experiments/951198864231561543\n",
      "==============================\n",
      "Normal sto\n",
      "alpha: 0.001\n",
      "==============================\n",
      "Loss at iteration 0 1.5125679292839627\n",
      "Loss at iteration 500 1.464834945105855\n",
      "Loss at iteration 1000 1.1411449353163134\n",
      "Loss at iteration 1500 1.2112065029710077\n",
      "Loss at iteration 2000 1.2861754185649212\n",
      "Loss at iteration 2500 1.2745990563067848\n",
      "Loss at iteration 3000 1.302861099172569\n",
      "Loss at iteration 3500 1.4295729863382451\n",
      "Loss at iteration 4000 1.3813368012801024\n",
      "Loss at iteration 4500 1.385730726544334\n",
      "Loss at iteration 5000 1.482576961198295\n",
      "Loss at iteration 5500 1.3934214560396794\n",
      "Loss at iteration 6000 1.4245246973787529\n",
      "Loss at iteration 6500 1.3714701589168312\n",
      "Loss at iteration 7000 1.4084711632248461\n",
      "Loss at iteration 7500 1.3871996774548452\n",
      "Loss at iteration 8000 1.4672150200501073\n",
      "Loss at iteration 8500 1.451355436859376\n",
      "Loss at iteration 9000 1.3394507453493314\n",
      "Loss at iteration 9500 1.3728729683758614\n",
      "time taken: 5.73931360244751\n",
      "Final Training Loss: 1.4237337239249834\n",
      "🏃 View run reg-Normal-method-sto-alpha-0.001 at: https://mlflow.ml.brain.cs.ait.ac.th/#/experiments/951198864231561543/runs/61d42015efef45438f4829a67b790c87\n",
      "🧪 View experiment at: https://mlflow.ml.brain.cs.ait.ac.th/#/experiments/951198864231561543\n",
      "==============================\n",
      "Normal sto\n",
      "alpha: 0.0001\n",
      "==============================\n",
      "Loss at iteration 0 1.1151552111703886\n",
      "Loss at iteration 500 1.5073796489553208\n",
      "Loss at iteration 1000 1.3450369498257286\n",
      "Loss at iteration 1500 1.5298838407823785\n",
      "Loss at iteration 2000 1.496796251882995\n",
      "Loss at iteration 2500 1.514713359420311\n",
      "Loss at iteration 3000 1.336723591229709\n",
      "Loss at iteration 3500 1.2906481453079173\n",
      "Loss at iteration 4000 1.5254217885782286\n",
      "Loss at iteration 4500 1.3112866090378739\n",
      "Loss at iteration 5000 1.3088463481421733\n",
      "Loss at iteration 5500 1.5633670821904413\n",
      "Loss at iteration 6000 1.4222942483036376\n",
      "Loss at iteration 6500 1.4855092866597583\n",
      "Loss at iteration 7000 1.279796958853336\n",
      "Loss at iteration 7500 1.4250006998804998\n",
      "Loss at iteration 8000 1.5361881273130227\n",
      "Loss at iteration 8500 1.3316085797958122\n",
      "Loss at iteration 9000 1.4617455865793199\n",
      "Loss at iteration 9500 1.2704821116522695\n",
      "time taken: 5.941740274429321\n",
      "Final Training Loss: 1.2820416405618102\n",
      "🏃 View run reg-Normal-method-sto-alpha-0.0001 at: https://mlflow.ml.brain.cs.ait.ac.th/#/experiments/951198864231561543/runs/bef6e2fdaa944efaa7761d71fc513194\n",
      "🧪 View experiment at: https://mlflow.ml.brain.cs.ait.ac.th/#/experiments/951198864231561543\n",
      "==============================\n",
      "Ridge batch\n",
      "alpha: 0.01\n",
      "==============================\n",
      "Loss at iteration 0 1.509678376259324\n",
      "Loss at iteration 500 17.605688717919538\n",
      "Loss at iteration 1000 9.754065054154239\n",
      "Loss at iteration 1500 12.424872890710116\n",
      "Loss at iteration 2000 25.734907192733996\n",
      "Loss at iteration 2500 12.681719496234859\n",
      "Loss at iteration 3000 7.7202467661344985\n",
      "Loss at iteration 3500 15.595188495027958\n",
      "Loss at iteration 4000 13.914762482356558\n",
      "Loss at iteration 4500 4.1965005722382935\n",
      "Loss at iteration 5000 21.51623420305076\n",
      "Loss at iteration 5500 21.3857955564997\n",
      "Loss at iteration 6000 9.373004508877315\n",
      "Loss at iteration 6500 14.571255314829802\n",
      "Loss at iteration 7000 6.333241741341584\n",
      "Loss at iteration 7500 8.532334945105275\n",
      "Loss at iteration 8000 13.682266577252465\n",
      "Loss at iteration 8500 12.42593122195722\n",
      "Loss at iteration 9000 13.011302828706574\n",
      "Loss at iteration 9500 23.960082731697288\n",
      "time taken: 38.49317669868469\n",
      "Final Training Loss: 13.654660036972125\n",
      "🏃 View run reg-Ridge-method-batch-alpha-0.01 at: https://mlflow.ml.brain.cs.ait.ac.th/#/experiments/951198864231561543/runs/8b017b154ad94c2496198068735e9524\n",
      "🧪 View experiment at: https://mlflow.ml.brain.cs.ait.ac.th/#/experiments/951198864231561543\n",
      "==============================\n",
      "Ridge batch\n",
      "alpha: 0.001\n",
      "==============================\n",
      "Loss at iteration 0 1.41754116670434\n",
      "Loss at iteration 500 1.2372204007303804\n",
      "Loss at iteration 1000 1.2371623932173055\n",
      "Loss at iteration 1500 1.2371605059808242\n",
      "Loss at iteration 2000 1.2371604023217482\n",
      "Loss at iteration 2500 1.2371603963732576\n",
      "Loss at iteration 3000 1.2371603960305335\n",
      "Loss at iteration 3500 1.2371603960107722\n",
      "Loss at iteration 4000 1.2371603960096325\n",
      "Loss at iteration 4500 1.237160396009567\n",
      "Loss at iteration 5000 1.2371603960095632\n",
      "Loss at iteration 5500 1.2371603960095632\n",
      "Loss at iteration 6000 1.2371603960095627\n",
      "Loss at iteration 6500 1.2371603960095627\n",
      "Loss at iteration 7000 1.237160396009563\n",
      "Loss at iteration 7500 1.237160396009563\n",
      "Loss at iteration 8000 1.237160396009563\n",
      "Loss at iteration 8500 1.237160396009563\n",
      "Loss at iteration 9000 1.237160396009563\n",
      "Loss at iteration 9500 1.237160396009563\n",
      "time taken: 30.21312975883484\n",
      "Final Training Loss: 1.237160396009563\n",
      "🏃 View run reg-Ridge-method-batch-alpha-0.001 at: https://mlflow.ml.brain.cs.ait.ac.th/#/experiments/951198864231561543/runs/ab96ea6ca48a43fc806db74fac702301\n",
      "🧪 View experiment at: https://mlflow.ml.brain.cs.ait.ac.th/#/experiments/951198864231561543\n",
      "==============================\n",
      "Ridge batch\n",
      "alpha: 0.0001\n",
      "==============================\n",
      "Loss at iteration 0 1.457413789003237\n",
      "Loss at iteration 500 1.2565997423686455\n",
      "Loss at iteration 1000 1.24312359418191\n",
      "Loss at iteration 1500 1.239675489251659\n",
      "Loss at iteration 2000 1.238406037127296\n",
      "Loss at iteration 2500 1.2378373574187358\n",
      "Loss at iteration 3000 1.237550301522531\n",
      "Loss at iteration 3500 1.237394188059737\n",
      "Loss at iteration 4000 1.2373050610327607\n",
      "Loss at iteration 4500 1.2372523758675789\n",
      "Loss at iteration 5000 1.2372203417475316\n",
      "Loss at iteration 5500 1.2372003644816152\n",
      "Loss at iteration 6000 1.2371876032076299\n",
      "Loss at iteration 6500 1.2371792611633157\n",
      "Loss at iteration 7000 1.2371736874824626\n",
      "Loss at iteration 7500 1.2371698876057846\n",
      "Loss at iteration 8000 1.237167249836633\n",
      "Loss at iteration 8500 1.2371653898272372\n",
      "Loss at iteration 9000 1.2371640607459553\n",
      "Loss at iteration 9500 1.2371631005886332\n",
      "time taken: 37.15867209434509\n",
      "Final Training Loss: 1.237162401967725\n",
      "🏃 View run reg-Ridge-method-batch-alpha-0.0001 at: https://mlflow.ml.brain.cs.ait.ac.th/#/experiments/951198864231561543/runs/570d775fab2e41c2b7943f02fffc4f21\n",
      "🧪 View experiment at: https://mlflow.ml.brain.cs.ait.ac.th/#/experiments/951198864231561543\n",
      "==============================\n",
      "Ridge minibatch\n",
      "alpha: 0.01\n",
      "==============================\n",
      "Loss at iteration 0 1.4469179179471117\n",
      "Loss at iteration 500 3.4355621238027534\n",
      "Loss at iteration 1000 4.541129285461166\n",
      "Loss at iteration 1500 3.151850624255991\n",
      "Loss at iteration 2000 3.918563343830565\n",
      "Loss at iteration 2500 3.6720737449151852\n",
      "Loss at iteration 3000 2.73927613074619\n",
      "Loss at iteration 3500 2.9411020320519423\n",
      "Loss at iteration 4000 5.4299374749024665\n",
      "Loss at iteration 4500 4.151160183441616\n",
      "Loss at iteration 5000 4.270475202204345\n",
      "Loss at iteration 5500 4.802163929851163\n",
      "Loss at iteration 6000 4.86926391948047\n",
      "Loss at iteration 6500 2.972528853663094\n",
      "Loss at iteration 7000 2.6119928354333273\n",
      "Loss at iteration 7500 4.034971312517437\n",
      "Loss at iteration 8000 5.071605840874984\n",
      "Loss at iteration 8500 4.071453415624489\n",
      "Loss at iteration 9000 4.410207086339924\n",
      "Loss at iteration 9500 3.470290180890689\n",
      "time taken: 21.617523670196533\n",
      "Final Training Loss: 6.279518926065894\n",
      "🏃 View run reg-Ridge-method-minibatch-alpha-0.01 at: https://mlflow.ml.brain.cs.ait.ac.th/#/experiments/951198864231561543/runs/b3cc299b8fce41b7a1070df9b94c050f\n",
      "🧪 View experiment at: https://mlflow.ml.brain.cs.ait.ac.th/#/experiments/951198864231561543\n",
      "==============================\n",
      "Ridge minibatch\n",
      "alpha: 0.001\n",
      "==============================\n",
      "Loss at iteration 0 1.3921205504620644\n",
      "Loss at iteration 500 1.222854472736468\n",
      "Loss at iteration 1000 1.223357193793557\n",
      "Loss at iteration 1500 1.2204483237105463\n",
      "Loss at iteration 2000 1.2234046186645784\n",
      "Loss at iteration 2500 1.232701736088226\n",
      "Loss at iteration 3000 1.2499367663119392\n",
      "Loss at iteration 3500 1.228447578476698\n",
      "Loss at iteration 4000 1.2589279300327905\n",
      "Loss at iteration 4500 1.222339746773082\n",
      "Loss at iteration 5000 1.2394204140565928\n",
      "Loss at iteration 5500 1.2517481253540808\n",
      "Loss at iteration 6000 1.2607386305064519\n",
      "Loss at iteration 6500 1.2298348856193744\n",
      "Loss at iteration 7000 1.2427512337581215\n",
      "Loss at iteration 7500 1.217446518725126\n",
      "Loss at iteration 8000 1.2318603435710556\n",
      "Loss at iteration 8500 1.2259294153131102\n",
      "Loss at iteration 9000 1.249386185000406\n",
      "Loss at iteration 9500 1.2718561805396933\n",
      "time taken: 21.46387481689453\n",
      "Final Training Loss: 1.2212475716919329\n",
      "🏃 View run reg-Ridge-method-minibatch-alpha-0.001 at: https://mlflow.ml.brain.cs.ait.ac.th/#/experiments/951198864231561543/runs/67f937459bdc4e48973ac21a1a39ce8b\n",
      "🧪 View experiment at: https://mlflow.ml.brain.cs.ait.ac.th/#/experiments/951198864231561543\n",
      "==============================\n",
      "Ridge minibatch\n",
      "alpha: 0.0001\n",
      "==============================\n",
      "Loss at iteration 0 1.4732832663383335\n",
      "Loss at iteration 500 1.3166526653377983\n",
      "Loss at iteration 1000 1.2859598758333164\n",
      "Loss at iteration 1500 1.2566957141190416\n",
      "Loss at iteration 2000 1.2502106330629643\n",
      "Loss at iteration 2500 1.2302580590453487\n",
      "Loss at iteration 3000 1.2266038464413218\n",
      "Loss at iteration 3500 1.2371002343413682\n",
      "Loss at iteration 4000 1.2377280521290315\n",
      "Loss at iteration 4500 1.2330238350471554\n",
      "Loss at iteration 5000 1.2341038385659036\n",
      "Loss at iteration 5500 1.2735277951892576\n",
      "Loss at iteration 6000 1.2271518333113183\n",
      "Loss at iteration 6500 1.2456205515741225\n",
      "Loss at iteration 7000 1.251908845218833\n",
      "Loss at iteration 7500 1.2415094522159975\n",
      "Loss at iteration 8000 1.2233628347530283\n",
      "Loss at iteration 8500 1.2350504025685367\n",
      "Loss at iteration 9000 1.2658849644679253\n",
      "Loss at iteration 9500 1.2245701234551212\n",
      "time taken: 43.34560251235962\n",
      "Final Training Loss: 1.2226816268130107\n",
      "🏃 View run reg-Ridge-method-minibatch-alpha-0.0001 at: https://mlflow.ml.brain.cs.ait.ac.th/#/experiments/951198864231561543/runs/5880d539e7da44e082ad13648d6e17fc\n",
      "🧪 View experiment at: https://mlflow.ml.brain.cs.ait.ac.th/#/experiments/951198864231561543\n",
      "==============================\n",
      "Ridge sto\n",
      "alpha: 0.01\n",
      "==============================\n",
      "Loss at iteration 0 1.6515876092744626\n",
      "Loss at iteration 500 1.3686945009464695\n",
      "Loss at iteration 1000 1.3466262186887297\n",
      "Loss at iteration 1500 1.3335353893409174\n",
      "Loss at iteration 2000 1.3012691079305767\n",
      "Loss at iteration 2500 1.3283639084982308\n",
      "Loss at iteration 3000 1.286467109667986\n",
      "Loss at iteration 3500 1.4319033768586096\n",
      "Loss at iteration 4000 1.471131193508739\n",
      "Loss at iteration 4500 1.4113048167066833\n",
      "Loss at iteration 5000 1.4189022737737609\n",
      "Loss at iteration 5500 1.349533483795231\n",
      "Loss at iteration 6000 1.4051437163959535\n",
      "Loss at iteration 6500 1.3263102947451162\n",
      "Loss at iteration 7000 1.3665070763070324\n",
      "Loss at iteration 7500 1.4065411917312511\n",
      "Loss at iteration 8000 1.4191722252364578\n",
      "Loss at iteration 8500 1.3855394358349118\n",
      "Loss at iteration 9000 1.2015155075272788\n",
      "Loss at iteration 9500 1.3857223461613244\n",
      "time taken: 6.056802034378052\n",
      "Final Training Loss: 1.423440959426127\n",
      "🏃 View run reg-Ridge-method-sto-alpha-0.01 at: https://mlflow.ml.brain.cs.ait.ac.th/#/experiments/951198864231561543/runs/fe12d45cd2384b97af5fb9f143e9ac01\n",
      "🧪 View experiment at: https://mlflow.ml.brain.cs.ait.ac.th/#/experiments/951198864231561543\n",
      "==============================\n",
      "Ridge sto\n",
      "alpha: 0.001\n",
      "==============================\n",
      "Loss at iteration 0 1.0499853233622427\n",
      "Loss at iteration 500 1.892748089336351\n",
      "Loss at iteration 1000 1.5043784711790773\n",
      "Loss at iteration 1500 1.6706858745277249\n",
      "Loss at iteration 2000 1.2387173519592205\n",
      "Loss at iteration 2500 1.4929095900818927\n",
      "Loss at iteration 3000 1.1886492131625768\n",
      "Loss at iteration 3500 1.307882199405585\n",
      "Loss at iteration 4000 1.3278917740964098\n",
      "Loss at iteration 4500 1.4885999927989286\n",
      "Loss at iteration 5000 1.2449169016860466\n",
      "Loss at iteration 5500 1.4114091320986206\n",
      "Loss at iteration 6000 1.32897792656864\n",
      "Loss at iteration 6500 1.381597558571125\n",
      "Loss at iteration 7000 1.296827952268946\n",
      "Loss at iteration 7500 1.4537046941840583\n",
      "Loss at iteration 8000 1.3000807214143404\n",
      "Loss at iteration 8500 1.4302411491740477\n",
      "Loss at iteration 9000 1.4519547240466637\n",
      "Loss at iteration 9500 1.4319802719294161\n",
      "time taken: 5.847374439239502\n",
      "Final Training Loss: 1.276714907865728\n",
      "🏃 View run reg-Ridge-method-sto-alpha-0.001 at: https://mlflow.ml.brain.cs.ait.ac.th/#/experiments/951198864231561543/runs/40ce3e1c9ae245e3b982ca2a42720e92\n",
      "🧪 View experiment at: https://mlflow.ml.brain.cs.ait.ac.th/#/experiments/951198864231561543\n",
      "==============================\n",
      "Ridge sto\n",
      "alpha: 0.0001\n",
      "==============================\n",
      "Loss at iteration 0 1.294771730279042\n",
      "Loss at iteration 500 1.6571829270371432\n",
      "Loss at iteration 1000 1.2904940296820653\n",
      "Loss at iteration 1500 1.3045991796881389\n",
      "Loss at iteration 2000 1.2656070615682204\n",
      "Loss at iteration 2500 1.3116749468104907\n",
      "Loss at iteration 3000 1.3145956239337127\n",
      "Loss at iteration 3500 1.323824084770897\n",
      "Loss at iteration 4000 1.257222421588475\n",
      "Loss at iteration 4500 1.2644379264829568\n",
      "Loss at iteration 5000 1.3347225570785322\n",
      "Loss at iteration 5500 1.3251997011676182\n",
      "Loss at iteration 6000 1.3579353391601328\n",
      "Loss at iteration 6500 1.2552380600136828\n",
      "Loss at iteration 7000 1.301247895447386\n",
      "Loss at iteration 7500 1.3411738612576427\n",
      "Loss at iteration 8000 1.352729636832124\n",
      "Loss at iteration 8500 1.586013904234054\n",
      "Loss at iteration 9000 1.2895843805722729\n",
      "Loss at iteration 9500 1.3314902310330738\n",
      "time taken: 6.092777490615845\n",
      "Final Training Loss: 1.309952893395133\n",
      "🏃 View run reg-Ridge-method-sto-alpha-0.0001 at: https://mlflow.ml.brain.cs.ait.ac.th/#/experiments/951198864231561543/runs/29e2408415b14d98a9ed6d6c88c703d1\n",
      "🧪 View experiment at: https://mlflow.ml.brain.cs.ait.ac.th/#/experiments/951198864231561543\n"
     ]
    },
    {
     "name": "stderr",
     "output_type": "stream",
     "text": [
      "Registered model 'st125041-a3-model' already exists. Creating a new version of this model...\n",
      "2025/04/05 12:24:10 INFO mlflow.store.model_registry.abstract_store: Waiting up to 300 seconds for model version to finish creation. Model name: st125041-a3-model, version 5\n",
      "Created version '5' of model 'st125041-a3-model'.\n"
     ]
    },
    {
     "name": "stdout",
     "output_type": "stream",
     "text": [
      "\n",
      "Registered Model: st125041-a3-model (Version: 5)\n",
      "Model 5 is now in Staging.\n",
      "🏃 View run reg-Ridge-method-sto at: https://mlflow.ml.brain.cs.ait.ac.th/#/experiments/951198864231561543/runs/43cf77ecebdc41c89daee6193c9f5932\n",
      "🧪 View experiment at: https://mlflow.ml.brain.cs.ait.ac.th/#/experiments/951198864231561543\n"
     ]
    }
   ],
   "source": [
    "from mlflow import MlflowClient\n",
    "\n",
    "regs = [\"Normal\", \"Ridge\"]\n",
    "methods = [\"batch\", \"minibatch\", \"sto\"]\n",
    "alphas = [0.01, 0.001, 0.0001]\n",
    "best_model = None\n",
    "best_train_loss = float('inf')\n",
    "best_reg_name = \"\"\n",
    "best_method = \"\"\n",
    "best_accuracy = -1\n",
    "\n",
    "for reg in regs:\n",
    "    for method in methods:\n",
    "        mlflow.start_run(run_name=f\"reg-{reg}-method-{method}\", nested=True)\n",
    "\n",
    "        for alpha in alphas:\n",
    "            if reg == \"Normal\":\n",
    "                params = {\"k\": k, \"n\":X_train.shape[1], \"method\": method, \"alpha\": alpha, \"max_iter\": 10000}\n",
    "            else:\n",
    "                params = {\"k\": k, \"n\":X_train.shape[1], \"method\": method, \"l\": 0.1, \"alpha\": alpha, \"max_iter\": 10000}\n",
    "            \n",
    "            with mlflow.start_run(run_name=f\"reg-{reg}-method-{params['method']}-alpha-{params['alpha']}\", nested=True):\n",
    "                print(\"=\"*30)\n",
    "                print(reg, method)\n",
    "                print(f\"alpha: {alpha}\")\n",
    "                print(\"=\"*30)\n",
    "                type_of_regression = str_to_class(reg)    \n",
    "                model = type_of_regression(**params)  \n",
    "                model.fit(X_train, Y_train_encoded)\n",
    "                yhat = model.predict(X_test)\n",
    "\n",
    "                accuracy = model.accuracy(y_test, yhat)\n",
    "                mlflow.log_metric(key=\"accuracy\", value=accuracy)\n",
    "\n",
    "                for c in range(k):\n",
    "                    f1 = model.f1_score(y_test, yhat, c)\n",
    "                    mlflow.log_metric(key=f\"class_{c}_f1\", value=f1)\n",
    "                    precision = model.precision(y_test, yhat, c)\n",
    "                    mlflow.log_metric(key=f\"class_{c}_precision\", value=precision)\n",
    "                    recall = model.recall(y_test, yhat, c)\n",
    "                    mlflow.log_metric(key=f\"class_{c}_recall\", value=recall)\n",
    "                    \n",
    "                \n",
    "                # Get the final training loss\n",
    "                final_train_loss = model.losses[-1]\n",
    "                print(f\"Final Training Loss: {final_train_loss}\")\n",
    "\n",
    "                signature = mlflow.models.infer_signature(X_train, model.predict(X_train))\n",
    "                mlflow.sklearn.log_model(model, artifact_path='model', signature=signature)\n",
    "\n",
    "                \n",
    "                # Comparing the current model's training loss with the best\n",
    "                if accuracy > best_accuracy:\n",
    "                    best_accuracy = accuracy\n",
    "                    best_train_loss = final_train_loss\n",
    "                    best_model = model\n",
    "                    best_reg_name = reg\n",
    "                    best_method = method\n",
    "                    best_mlrun_id = mlflow.active_run().info.run_id\n",
    "\n",
    "if best_mlrun_id:\n",
    "    uri = f\"runs:/{best_mlrun_id}/model\"\n",
    "    model_name = \"st125041-a3-model\"\n",
    "\n",
    "    model_v = mlflow.register_model(uri, model_name)\n",
    "    print(f\"\\nRegistered Model: {model_name} (Version: {model_v.version})\")\n",
    "\n",
    "    ml_client = MlflowClient()\n",
    "    latest_v = ml_client.get_latest_versions(model_name, stages=[\"None\"])[0].version\n",
    "\n",
    "    ml_client.transition_model_version_stage(name=model_name, version=latest_v, stage=\"Staging\")\n",
    "    print(f\"Model {latest_v} is now in Staging.\")\n",
    "\n",
    "                \n",
    "\n",
    "mlflow.end_run()"
   ]
  },
  {
   "cell_type": "code",
   "execution_count": 68,
   "metadata": {},
   "outputs": [
    {
     "name": "stdout",
     "output_type": "stream",
     "text": [
      "Best Model:\n",
      "Regularization: Ridge\n",
      "Method: minibatch\n",
      "Final train loss: 1.2212475716919329\n",
      "Final best accuracy: 0.45122457451224574\n"
     ]
    },
    {
     "data": {
      "image/png": "[encoded data removed]",
      "text/plain": [
       "<Figure size 640x480 with 1 Axes>"
      ]
     },
     "metadata": {},
     "output_type": "display_data"
    }
   ],
   "source": [
    "# Plotting the loss graph the graph of the best model\n",
    "print(\"Best Model:\")\n",
    "print(f\"Regularization: {best_reg_name}\")\n",
    "print(f\"Method: {best_method}\")\n",
    "print(f\"Final train loss: {best_train_loss}\")\n",
    "print(f\"Final best accuracy: {best_accuracy}\")\n",
    "best_model.plot()\n",
    "plt.show()"
   ]
  },
  {
   "cell_type": "code",
   "execution_count": 69,
   "metadata": {},
   "outputs": [],
   "source": [
    "import cloudpickle\n",
    "\n",
    "with open(\"./model/st125041_a3_model_scaled.pkl\", \"wb\") as f:\n",
    "    cloudpickle.dump(best_model, f)"
   ]
  },
  {
   "cell_type": "code",
   "execution_count": 70,
   "metadata": {},
   "outputs": [],
   "source": [
    "with open(\"./model/st125041_a3_model.pkl\", \"wb\") as f:\n",
    "    cloudpickle.dump(best_model, f)"
   ]
  },
  {
   "cell_type": "code",
   "execution_count": 71,
   "metadata": {},
   "outputs": [],
   "source": [
    "# Load the trained prediction model\n",
    "with open(\"./model/st125041_a3_model.pkl\", \"rb\") as f:\n",
    "    loaded_model = cloudpickle.load(f)"
   ]
  },
  {
   "cell_type": "code",
   "execution_count": 72,
   "metadata": {},
   "outputs": [],
   "source": [
    "car1 = pd.DataFrame([[2014, 21.14, 103.52]], columns=['year', 'mileage', 'max_power'])\n",
    "car2 = pd.DataFrame([[2019, 16, 160.77]], columns=['year', 'mileage', 'max_power'])\n",
    "car3 = pd.DataFrame([[2014, 23.4, 74]], columns=['year', 'mileage', 'max_power'])"
   ]
  },
  {
   "cell_type": "code",
   "execution_count": 73,
   "metadata": {},
   "outputs": [
    {
     "name": "stdout",
     "output_type": "stream",
     "text": [
      "Predicted price of Car 1: 1\n",
      "Predicted price of Car 2: 3\n",
      "Predicted price of Car 3: 0\n"
     ]
    }
   ],
   "source": [
    "import joblib\n",
    "scalermodel = joblib.load(\"../code/model/scaler.dump\")\n",
    "\n",
    "fit_car1 = scalermodel.transform(car1)\n",
    "fit_car2 = scalermodel.transform(car2)\n",
    "fit_car3 = scalermodel.transform(car3)\n",
    "\n",
    "carprice1 = loaded_model.predict(fit_car1)\n",
    "carprice2 = loaded_model.predict(fit_car2)\n",
    "carprice3 = loaded_model.predict(fit_car3)\n",
    "\n",
    "print(\"Predicted price of Car 1:\", carprice1[0])\n",
    "print(\"Predicted price of Car 2:\", carprice2[0])\n",
    "print(\"Predicted price of Car 3:\", carprice3[0])"
   ]
  }
 ],
 "metadata": {
  "kernelspec": {
   "display_name": "Python 3",
   "language": "python",
   "name": "python3"
  },
  "language_info": {
   "codemirror_mode": {
    "name": "ipython",
    "version": 3
   },
   "file_extension": ".py",
   "mimetype": "text/x-python",
   "name": "python",
   "nbconvert_exporter": "python",
   "pygments_lexer": "ipython3",
   "version": "3.12.6"
  }
 },
 "nbformat": 4,
 "nbformat_minor": 2
}
